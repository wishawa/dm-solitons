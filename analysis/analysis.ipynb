{
 "cells": [
  {
   "cell_type": "code",
   "execution_count": 11,
   "metadata": {},
   "outputs": [],
   "source": [
    "import os\n",
    "import sys\n",
    "import scipy.io as spio\n",
    "import numpy as np\n",
    "import plotly.graph_objects as pgo\n",
    "import re\n",
    "\n",
    "sys.path.append(\"../\")\n",
    "from helpers.get_density import get_density\n",
    "from helpers.get_spins import get_spins\n",
    "from helpers.downscale import downscale_3d\n",
    "from plot_multiple_3Ds import plot_multiple_3Ds\n",
    "from helpers.grids import get_kw_square_nonzero_grid"
   ]
  },
  {
   "cell_type": "code",
   "execution_count": 2,
   "metadata": {},
   "outputs": [],
   "source": [
    "box_N = 128\n",
    "box_L = 100.0\n",
    "box_dx = box_L / box_N\n",
    "def verify_box_spec(sim_path):\n",
    "\tconfig_path = os.path.join(sim_path, \"simConfig.mat\")\n",
    "\tsimConfig = spio.loadmat(config_path)[\"simConfig\"]\n",
    "\tif box_L != float(simConfig[\"Lbox\"][0, 0][0, 0]):\n",
    "\t\traise Exception(ValueError())\n",
    "\tif box_N != int(simConfig[\"N\"][0, 0][0, 0]):\n",
    "\t\traise Exception(ValueError())\n",
    "\n",
    "\n",
    "VOL_SCALE_FACTOR = 4\n",
    "vol_grid_axis = np.linspace((-box_L + box_dx) / 2, (box_L - box_dx) / 2, num=box_N//VOL_SCALE_FACTOR)\n",
    "(GY, GX, GZ) = [gi.flatten() for gi in np.meshgrid(vol_grid_axis, vol_grid_axis, vol_grid_axis)]\n",
    "\t"
   ]
  },
  {
   "cell_type": "code",
   "execution_count": 3,
   "metadata": {},
   "outputs": [],
   "source": [
    "def load_snaps_at(sim_path, progress_indices):\n",
    "\tsnap_paths = get_snap_paths(sim_path)\n",
    "\touts = []\n",
    "\tfor pr in progress_indices:\n",
    "\t\tind = int(pr * (len(snap_paths) - 1))\n",
    "\t\tsnap_path = snap_paths[ind]\n",
    "\t\touts.append(load_Psi(snap_path))\n",
    "\treturn outs\n"
   ]
  },
  {
   "cell_type": "code",
   "execution_count": 4,
   "metadata": {},
   "outputs": [],
   "source": [
    "def load_Psi(snap_path):\n",
    "\tprint(f\"loading {snap_path}\")\n",
    "\tsnap = spio.loadmat(snap_path)\n",
    "\tPsi = np.stack([snap[\"Psi\"][0, i] for i in range(3)], axis=0)\n",
    "\tprint(f\"loaded\")\n",
    "\treturn Psi\n",
    "\n",
    "def get_snap_paths(sim_path):\n",
    "\tverify_box_spec(sim_path)\n",
    "\tsim_files = os.listdir(sim_path)\n",
    "\tsearcher = r\"snap-Psi-(\\d+)-(\\d+\\.\\d*)\\.mat\"\n",
    "\tsnap_files = [re.search(searcher, fname) for fname in sim_files]\n",
    "\tsnap_files = [(int(f.groups()[0]), float(f.groups()[1])) for f in snap_files if not(f is None)]\n",
    "\tsnap_files = sorted(snap_files)\n",
    "\tsnap_files = [f\"snap-Psi-{iter}-{time}.mat\" for (iter, time) in snap_files]\n",
    "\tsnap_paths = [os.path.join(sim_path, f) for f in snap_files]\n",
    "\treturn snap_paths\n"
   ]
  },
  {
   "cell_type": "code",
   "execution_count": 5,
   "metadata": {},
   "outputs": [],
   "source": [
    "def plot_snap_density(Psi):\n",
    "\tRho = get_density(Psi)\n",
    "    \n",
    "\tVal = downscale_3d(Rho, VOL_SCALE_FACTOR)\n",
    "\tplot = pgo.Volume(\n",
    "\t\tx = GX,\n",
    "\t\ty = GY,\n",
    "\t\tz = GZ,\n",
    "\t\tvalue = np.log1p(Val).flatten() / 3,\n",
    "\t\topacity = 0.02,\n",
    "\t\tsurface_count = 128,\n",
    "\t\tcoloraxis = \"coloraxis\"\n",
    "\t)\n",
    "\treturn plot"
   ]
  },
  {
   "cell_type": "code",
   "execution_count": 16,
   "metadata": {},
   "outputs": [],
   "source": [
    "\n",
    "# klin = np.linspace(-box_N/2, box_N/2 - 1, box_N, endpoint=False) * (2 * math.pi / box_L)\n",
    "# k_sq_nz = np.fft.fftshift(sum([np.square(k) for k in np.meshgrid(klin, klin, klin)]))\n",
    "# k_sq_nz[k_sq_nz == 0] = 1\n",
    "kw_sq_nz = get_kw_square_nonzero_grid(box_N, box_dx)\n",
    "\n",
    "def get_normalized_grav_potential(Rho):\n",
    "\tV_grav = np.fft.fftn(-Rho)\n",
    "\tV_grav = V_grav / kw_sq_nz\n",
    "\tV_grav = np.real(np.fft.ifftn(V_grav))\n",
    "\tmin_V = np.min(V_grav)\n",
    "\tmax_V = np.max(V_grav)\n",
    "\treturn (V_grav - min_V) / (max_V - min_V)\n",
    "\n",
    "def plot_snap_V_grav(Psi):\n",
    "\tRho = get_density(Psi)\n",
    "\tV_grav = get_normalized_grav_potential(Rho)\n",
    "\treturn pgo.Volume(\n",
    "\t\tx = GX, y = GY, z = GZ,\n",
    "\t\tvalue = 1 - downscale_3d(V_grav, VOL_SCALE_FACTOR).flatten(),\n",
    "\t\topacity = 0.02,\n",
    "\t\tsurface_count = 128,\n",
    "\t\tcoloraxis = \"coloraxis\"\n",
    "\t)"
   ]
  },
  {
   "cell_type": "code",
   "execution_count": 17,
   "metadata": {},
   "outputs": [],
   "source": [
    "def plot_snap_spins(Psi):\n",
    "\tRho = get_density(Psi)\n",
    "\tSpins = get_spins(Psi)\n",
    "\trt3 = 3**0.5\n",
    "\tSpp = [downscale_3d(Spin / Rho, VOL_SCALE_FACTOR).flatten() / rt3 for Spin in Spins]\n",
    "\treturn pgo.Cone(\n",
    "\t\tx=GX, y=GY, z=GZ,\n",
    "\t\tu=Spp[0], v=Spp[1], w=Spp[2],\n",
    "\t\tcoloraxis = \"coloraxis\"\n",
    "\t)"
   ]
  },
  {
   "cell_type": "code",
   "execution_count": null,
   "metadata": {},
   "outputs": [],
   "source": [
    "Psis = load_snaps_at(f\"../outputs/2022-07-30/8-solitons-random-128-attractive-run-1/\", [0.0, 0.5, 1.0])\n",
    "plots = [\n",
    "\t[plot_snap_density(Psi) for Psi in Psis],\n",
    "\t[plot_snap_V_grav(Psi) for Psi in Psis],\n",
    "\t[plot_snap_spins(Psi) for Psi in Psis]\n",
    "]\n",
    "fig, js = plot_multiple_3Ds(plots)\n",
    "fig.update_layout(\n",
    "\tcoloraxis = {\n",
    "\t\t'colorscale': 'jet',\n",
    "\t\t'cmin': 0.0,\n",
    "\t\t'cmax': 1.0,\n",
    "\t},\n",
    ")\n",
    "fig.write_html(\"plot_Rho_Spin_2022-07-30-run-1.html\", post_script=js)"
   ]
  },
  {
   "cell_type": "code",
   "execution_count": 10,
   "metadata": {},
   "outputs": [
    {
     "name": "stdout",
     "output_type": "stream",
     "text": [
      "loading ../outputs/2022-07-30/8-solitons-random-128-nosi-run-1/snap-Psi-12000-6367.27.mat\n",
      "loaded\n",
      "loading ../outputs/2022-07-30/8-solitons-random-128-attractive-run-1/snap-Psi-12000-6367.27.mat\n",
      "loaded\n",
      "loading ../outputs/2022-07-30/8-solitons-random-128-repulsive-run-1/snap-Psi-12000-6367.27.mat\n",
      "loaded\n",
      "loading ../outputs/2022-07-30/8-solitons-random-128-nosi-run-2/snap-Psi-12000-6367.27.mat\n",
      "loaded\n",
      "loading ../outputs/2022-07-30/8-solitons-random-128-attractive-run-2/snap-Psi-12000-6367.27.mat\n",
      "loaded\n",
      "loading ../outputs/2022-07-30/8-solitons-random-128-repulsive-run-2/snap-Psi-12000-6367.27.mat\n",
      "loaded\n",
      "loading ../outputs/2022-07-30/8-solitons-random-128-nosi-run-3/snap-Psi-12000-6367.27.mat\n",
      "loaded\n",
      "loading ../outputs/2022-07-30/8-solitons-random-128-attractive-run-3/snap-Psi-12000-6367.27.mat\n",
      "loaded\n",
      "loading ../outputs/2022-07-30/8-solitons-random-128-repulsive-run-3/snap-Psi-12000-6367.27.mat\n",
      "loaded\n",
      "loading ../outputs/2022-07-30/8-solitons-random-128-nosi-run-4/snap-Psi-12000-6367.27.mat\n",
      "loaded\n",
      "loading ../outputs/2022-07-30/8-solitons-random-128-attractive-run-4/snap-Psi-12000-6367.27.mat\n",
      "loaded\n",
      "loading ../outputs/2022-07-30/8-solitons-random-128-repulsive-run-4/snap-Psi-12000-6367.27.mat\n",
      "loaded\n",
      "loading ../outputs/2022-07-30/8-solitons-random-128-nosi-run-5/snap-Psi-12000-6367.27.mat\n",
      "loaded\n",
      "loading ../outputs/2022-07-30/8-solitons-random-128-attractive-run-5/snap-Psi-12000-6367.27.mat\n",
      "loaded\n",
      "loading ../outputs/2022-07-30/8-solitons-random-128-repulsive-run-5/snap-Psi-12000-6367.27.mat\n",
      "loaded\n",
      "loading ../outputs/2022-07-30/8-solitons-random-128-nosi-run-6/snap-Psi-12000-6367.27.mat\n",
      "loaded\n",
      "loading ../outputs/2022-07-30/8-solitons-random-128-attractive-run-6/snap-Psi-12000-6367.27.mat\n",
      "loaded\n",
      "loading ../outputs/2022-07-30/8-solitons-random-128-repulsive-run-6/snap-Psi-12000-6367.27.mat\n",
      "loaded\n",
      "loading ../outputs/2022-07-30/8-solitons-random-128-nosi-run-7/snap-Psi-12000-6367.27.mat\n",
      "loaded\n",
      "loading ../outputs/2022-07-30/8-solitons-random-128-attractive-run-7/snap-Psi-12000-6367.27.mat\n",
      "loaded\n",
      "loading ../outputs/2022-07-30/8-solitons-random-128-repulsive-run-7/snap-Psi-12000-6367.27.mat\n",
      "loaded\n",
      "loading ../outputs/2022-07-30/8-solitons-random-128-nosi-run-8/snap-Psi-12000-6367.27.mat\n",
      "loaded\n",
      "loading ../outputs/2022-07-30/8-solitons-random-128-attractive-run-8/snap-Psi-12000-6367.27.mat\n",
      "loaded\n",
      "loading ../outputs/2022-07-30/8-solitons-random-128-repulsive-run-8/snap-Psi-12000-6367.27.mat\n",
      "loaded\n"
     ]
    }
   ],
   "source": [
    "NUM_SIMULATIONS = 8\n",
    "PROGRESS_STEPS = [1.0]\n",
    "INTR_MODES = [\n",
    "\t# filename,\t\t label,\t\t\t\t color\n",
    "\t(\"nosi\",\t\t\"No SI\",\t\t\t\"#1abc9c\"),\n",
    "\t(\"attractive\",\t\"Attractive SI\",\t\"#3498db\"),\n",
    "\t(\"repulsive\",\t\"Repulsive SI\",\t\t\"#f39c12\"),\n",
    "]\n",
    "all_Psis = [[load_snaps_at(f\"../outputs/2022-07-30/8-solitons-random-128-{filename}-run-{i}/\", PROGRESS_STEPS) for (filename, _, _) in INTR_MODES] for i in range(1, 1+NUM_SIMULATIONS)]"
   ]
  },
  {
   "cell_type": "code",
   "execution_count": null,
   "metadata": {},
   "outputs": [],
   "source": [
    "# all_Psis[sim number][interaction mode][progress step][component]"
   ]
  },
  {
   "cell_type": "code",
   "execution_count": 52,
   "metadata": {},
   "outputs": [],
   "source": [
    "from plotly.subplots import make_subplots\n",
    "from tqdm import tqdm\n",
    "def make_plots(plot_func):\n",
    "\tfig = make_subplots(NUM_SIMULATIONS, len(PROGRESS_STEPS), shared_xaxes=True, shared_yaxes=True)\n",
    "\tfor (simul, sim_Psis) in tqdm(enumerate(all_Psis, start=1)):\n",
    "\t\tfor (intr_idx, sim_intr_Psis) in enumerate(sim_Psis):\n",
    "\t\t\tfor (pro, step_Psi) in enumerate(sim_intr_Psis, start=1):\n",
    "\t\t\t\ttrace = plot_func(step_Psi)\n",
    "\t\t\t\t(_, label, color) = INTR_MODES[intr_idx]\n",
    "\t\t\t\ttrace.name = label\n",
    "\t\t\t\ttrace.line.color = color\n",
    "\t\t\t\tfig.add_trace(trace, simul, pro)\n",
    "\n",
    "\tfig = pgo.Figure(fig)\n",
    "\treturn fig\n",
    "\n",
    "NUM_BINS = 192"
   ]
  },
  {
   "cell_type": "code",
   "execution_count": 28,
   "metadata": {},
   "outputs": [
    {
     "name": "stderr",
     "output_type": "stream",
     "text": [
      "8it [00:10,  1.33s/it]\n",
      "8it [00:15,  1.94s/it]\n"
     ]
    }
   ],
   "source": [
    "def plot_Rho_over_AvgRho_low(Psi):\n",
    "\tRho = get_density(Psi)\n",
    "\tValues = Rho / np.average(Rho)\n",
    "\tcounts, edges = np.histogram(Values, bins = NUM_BINS, range = (0.0, 1.0), density = True)\n",
    "\treturn pgo.Scatter(x=edges, y=counts, mode=\"lines+markers\")\n",
    "def plot_Rho_over_AvgRho_high(Psi):\n",
    "\tRho = get_density(Psi)\n",
    "\tValues = Rho / np.average(Rho)\n",
    "\tmax_value = np.max(Values)\n",
    "\tcounts, edges = np.histogram(Values, bins = np.logspace(0, np.log10(max_value), num = NUM_BINS, base=10.0), range = (1.0, max_value), density = True)\n",
    "\treturn pgo.Scatter(x=edges, y=counts, mode=\"lines+markers\")\n",
    "\n",
    "fig = make_plots(plot_Rho_over_AvgRho_low)\n",
    "fig.update_yaxes(type = \"log\")\n",
    "fig.write_html(\"2022-07-30_Rho_over_AvgRho_low.html\")\n",
    "fig = make_plots(plot_Rho_over_AvgRho_high)\n",
    "fig.update_yaxes(type = \"log\")\n",
    "fig.update_xaxes(type = \"log\")\n",
    "fig.write_html(\"2022-07-30_Rho_over_AvgRho_high.html\")"
   ]
  },
  {
   "cell_type": "code",
   "execution_count": 11,
   "metadata": {},
   "outputs": [
    {
     "name": "stderr",
     "output_type": "stream",
     "text": [
      "7it [01:39, 14.23s/it]\n"
     ]
    }
   ],
   "source": [
    "def plot_Spin_over_Rho(Psi):\n",
    "\tRho = get_density(Psi)\n",
    "\tSpins = get_spins(Psi)\n",
    "\tNorms = np.sqrt(np.sum(np.square(Spins), axis=0))\n",
    "\tValues = Norms / Rho\n",
    "\tcounts, edges = np.histogram(Values, bins = NUM_BINS, density = True)\n",
    "\treturn pgo.Scatter(x=edges, y=counts, mode=\"lines+markers\")\n",
    "\n",
    "fig = make_plots(plot_Spin_over_Rho)\n",
    "fig.write_html(\"2022-07-30_Spin_over_Rho.html\")"
   ]
  },
  {
   "cell_type": "code",
   "execution_count": 11,
   "metadata": {},
   "outputs": [
    {
     "name": "stderr",
     "output_type": "stream",
     "text": [
      "5it [00:42,  8.56s/it]\n",
      "5it [00:58, 11.68s/it]\n"
     ]
    }
   ],
   "source": [
    "\n",
    "def plot_Spin_over_AvgSpin_low(Psi):\n",
    "\tSpins = get_spins(Psi)\n",
    "\tNorms = np.sqrt(np.sum(np.square(Spins), axis=0))\n",
    "\tValues = Norms / np.average(Norms)\n",
    "\tcounts, edges = np.histogram(Values, bins = NUM_BINS, range = (0.0, 1.0), density = True)\n",
    "\treturn pgo.Scatter(x=edges, y=counts, mode=\"lines+markers\")\n",
    "def plot_Spin_over_AvgSpin_high(Psi):\n",
    "\tSpins = get_spins(Psi)\n",
    "\tNorms = np.sqrt(np.sum(np.square(Spins), axis=0))\n",
    "\tValues = Norms / np.average(Norms)\n",
    "\tmax_value = np.max(Values)\n",
    "\tcounts, edges = np.histogram(Values, bins = np.logspace(0, np.log10(max_value), num = NUM_BINS, base=10.0), range = (1.0, max_value), density = True)\n",
    "\treturn pgo.Scatter(x=edges, y=counts, mode=\"lines+markers\")\n",
    "\n",
    "fig = make_plots(plot_Spin_over_AvgSpin_low)\n",
    "fig.update_yaxes(type = \"log\")\n",
    "fig.write_html(\"2022-07-30_Spin_over_AvgSpin_low.html\")\n",
    "fig = make_plots(plot_Spin_over_AvgSpin_high)\n",
    "fig.update_yaxes(type = \"log\")\n",
    "fig.update_xaxes(type = \"log\")\n",
    "fig.write_html(\"2022-07-30_Spin_over_AvgSpin_high.html\")"
   ]
  },
  {
   "cell_type": "code",
   "execution_count": 279,
   "metadata": {},
   "outputs": [],
   "source": [
    "# def find_densest_point(Psi):\n",
    "# \tRho = get_density(Psi)\n",
    "# \treturn np.unravel_index(np.argmax(Rho), shape=Rho.shape)\n",
    "\t\n",
    "def shift_around_point(Psi, point_idx, box_size: int = box_N):\n",
    "\trollby = tuple(((box_size // 2) - pax) for pax in point_idx)\n",
    "\treturn np.roll(Psi, rollby, tuple(range(1, len(point_idx) + 1)))\n",
    "\t\n",
    "space_lin = np.linspace(-box_L / 2, box_L / 2, num = box_N)\n",
    "space_dx = space_lin[1] - space_lin[0]\n",
    "space_grid = np.meshgrid(space_lin, space_lin, space_lin)\n",
    "radius_grid = np.sqrt(np.sum(np.square(space_grid), axis=0))\n",
    "radius_grid_f = radius_grid.flatten()\n",
    "sorter_by_radius = np.argsort(radius_grid_f)\n",
    "radius_sorted = radius_grid_f[sorter_by_radius]\n",
    "space_sorted = [sp.flatten()[sorter_by_radius] for sp in space_grid]\n",
    "MOVING_AVERAGE_WINDOW = 128\n",
    "def shift_around_core(Psi):\n",
    "\tRho = get_density(Psi)\n",
    "\t# densest_point_idx = np.unravel_index(np.argmax(Rho), shape=Rho.shape)\n",
    "\tgrav_potential = get_normalized_grav_potential(Rho)\n",
    "\tdensest_point_idx = np.unravel_index(np.argmin(grav_potential), shape=grav_potential.shape)\n",
    "\tprint(f\"densest_point_idx: {densest_point_idx}\")\n",
    "\tcentered_Psi = shift_around_point(Psi, densest_point_idx)\n",
    "\treturn centered_Psi\n",
    "def find_dense_circle(centered_Psi):\n",
    "\tRho = get_density(centered_Psi)\n",
    "\tRho_f = Rho.flatten()\n",
    "\tRho_s = Rho_f[sorter_by_radius]\n",
    "\ttarget_density = Rho[box_N // 2, box_N // 2, box_N // 2] * 0.01\n",
    "\tcentered_Rho_mavg = np.convolve(Rho_s, np.ones(MOVING_AVERAGE_WINDOW), mode='valid') / MOVING_AVERAGE_WINDOW\n",
    "\tboundary_arg = np.argmax(centered_Rho_mavg < target_density)\n",
    "\tboundary_range = slice(boundary_arg, boundary_arg + MOVING_AVERAGE_WINDOW)\n",
    "\tselected_range = slice(0, boundary_arg + MOVING_AVERAGE_WINDOW)\n",
    "\tboundary_radius = radius_sorted[boundary_arg + MOVING_AVERAGE_WINDOW]\n",
    "\tprint(f\"selection radius = {boundary_radius}\")\n",
    "\tif boundary_arg < MOVING_AVERAGE_WINDOW:\n",
    "\t\tprint(f\"warn: selected volume is small. boundary_arg={boundary_arg}\")\n",
    "\tboundary_positions = tuple([s[boundary_range] for s in space_sorted])\n",
    "\tselected_Psi = np.stack([cpax.flatten()[sorter_by_radius][selected_range] for cpax in centered_Psi], axis=0)\n",
    "\treturn boundary_radius, boundary_positions, selected_Psi\n",
    "\t"
   ]
  },
  {
   "cell_type": "code",
   "execution_count": 326,
   "metadata": {},
   "outputs": [],
   "source": [
    "def plot_rho_over_r(centered_Psi):\n",
    "\tRho = get_density(centered_Psi)\n",
    "\tRho_f = Rho.flatten()\n",
    "\tRho_s = Rho_f[sorter_by_radius]\n",
    "\t# rs = (radius_sorted < 8) and (radius > 4)\n",
    "\trs = np.logical_and(radius_sorted < 12, radius_sorted > 0)\n",
    "\tcounts,edges=np.histogram(radius_sorted, weights = Rho_s * (), bins=np.linspace(1, 200, 400))\n",
    "\tcounts_uw,_=np.histogram(radius_sorted, bins=np.linspace(1, 200, 400))\n",
    "\ty  =counts/(counts_uw+1)\n",
    "\tx = edges\n",
    "\t# return pgo.Scatter(x=edges, y=(counts/(counts_uw+1)), mode='markers')\n",
    "\t# y = np.convolve(Rho_s, np.ones(MOVING_AVERAGE_WINDOW), 'same')\n",
    "\t# x = np.convolve(radius_sorted, np.ones(MOVING_AVERAGE_WINDOW), 'same')\n",
    "\t# x = radius_sorted\n",
    "\t# y = Rho_s\n",
    "\treturn pgo.Scatter(x=x, y=y, mode='markers')\n",
    "\t# target_density = Rho[box_N // 2, box_N // 2, box_N // 2] / np.e\n",
    "\t# centered_Rho_mavg = np.convolve(Rho_s, np.ones(MOVING_AVERAGE_WINDOW), mode='valid') / MOVING_AVERAGE_WINDOW\n",
    "\t# boundary_arg = np.argmax(centered_Rho_mavg < target_density)\n",
    "\t# boundary_range = slice(boundary_arg, boundary_arg + MOVING_AVERAGE_WINDOW)\n",
    "\t# selected_range = slice(0, boundary_arg + MOVING_AVERAGE_WINDOW)\n",
    "\t# boundary_radius = radius_sorted[boundary_arg + MOVING_AVERAGE_WINDOW]\n",
    "\t# print(f\"selection radius = {boundary_radius}\")\n",
    "\t# if boundary_arg < MOVING_AVERAGE_WINDOW:\n",
    "\t# \tprint(f\"warn: selected volume is small. boundary_arg={boundary_arg}\")\n",
    "\t# boundary_positions = tuple([s[boundary_range] for s in space_sorted])\n",
    "\t# selected_Psi = np.stack([cpax.flatten()[sorter_by_radius][selected_range] for cpax in centered_Psi], axis=0)\n",
    "\t# return boundary_radius, boundary_positions, selected_Psi\n",
    "fig = pgo.Figure(data=plot_rho_over_r(centered_Psi))\n",
    "fig.update_yaxes(type = \"log\")\n",
    "fig.update_xaxes(type = \"log\")\n",
    "pass\n",
    "fig.write_html(\"2022-07-30_Rho_over_r.html\")"
   ]
  },
  {
   "cell_type": "code",
   "execution_count": 321,
   "metadata": {},
   "outputs": [
    {
     "data": {
      "application/vnd.plotly.v1+json": {
       "config": {
        "plotlyServerURL": "https://plot.ly"
       },
       "data": [
        {
         "mode": "markers",
         "type": "scatter",
         "x": [
          1,
          1.4987468671679198,
          1.9974937343358397,
          2.496240601503759,
          2.9949874686716793,
          3.4937343358395987,
          3.9924812030075185,
          4.491228070175438,
          4.989974937343359,
          5.488721804511278,
          5.987468671679197,
          6.486215538847118,
          6.984962406015037,
          7.483709273182957,
          7.982456140350877,
          8.481203007518797,
          8.979949874686717,
          9.478696741854636,
          9.977443609022556,
          10.476190476190476,
          10.974937343358395,
          11.473684210526315,
          11.972431077694235,
          12.471177944862156,
          12.969924812030074,
          13.468671679197994,
          13.967418546365915,
          14.466165413533833,
          14.964912280701753,
          15.463659147869674,
          15.962406015037594,
          16.46115288220551,
          16.959899749373434,
          17.45864661654135,
          17.95739348370927,
          18.45614035087719,
          18.954887218045112,
          19.453634085213032,
          19.952380952380953,
          20.451127819548873,
          20.94987468671679,
          21.44862155388471,
          21.94736842105263,
          22.44611528822055,
          22.94486215538847,
          23.44360902255639,
          23.94235588972431,
          24.441102756892228,
          24.939849624060148,
          25.43859649122807,
          25.93734335839599,
          26.43609022556391,
          26.93483709273183,
          27.43358395989975,
          27.932330827067666,
          28.431077694235587,
          28.929824561403507,
          29.428571428571427,
          29.927318295739347,
          30.426065162907268,
          30.924812030075188,
          31.423558897243105,
          31.922305764411025,
          32.421052631578945,
          32.91979949874687,
          33.418546365914786,
          33.9172932330827,
          34.416040100250626,
          34.91478696741854,
          35.41353383458647,
          35.91228070175438,
          36.41102756892231,
          36.909774436090224,
          37.40852130325814,
          37.907268170426065,
          38.40601503759398,
          38.904761904761905,
          39.40350877192982,
          39.902255639097746,
          40.40100250626566,
          40.89974937343358,
          41.3984962406015,
          41.89724310776942,
          42.39598997493734,
          42.89473684210526,
          43.393483709273184,
          43.8922305764411,
          44.39097744360902,
          44.88972431077694,
          45.38847117794486,
          45.88721804511278,
          46.3859649122807,
          46.88471177944862,
          47.38345864661654,
          47.882205513784456,
          48.38095238095238,
          48.879699248120296,
          49.37844611528822,
          49.87719298245614,
          50.37593984962406,
          50.87468671679198,
          51.373433583959894,
          51.87218045112782,
          52.370927318295735,
          52.86967418546366,
          53.368421052631575,
          53.8671679197995,
          54.365914786967416,
          54.86466165413533,
          55.363408521303256,
          55.86215538847117,
          56.3609022556391,
          56.859649122807014,
          57.35839598997494,
          57.857142857142854,
          58.35588972431077,
          58.854636591478695,
          59.35338345864661,
          59.852130325814535,
          60.35087719298245,
          60.849624060150376,
          61.34837092731829,
          61.84711779448621,
          62.34586466165413,
          62.84461152882205,
          63.34335839598997,
          63.84210526315789,
          64.34085213032581,
          64.83959899749374,
          65.33834586466165,
          65.83709273182957,
          66.3358395989975,
          66.8345864661654,
          67.33333333333333,
          67.83208020050125,
          68.33082706766918,
          68.82957393483709,
          69.32832080200501,
          69.82706766917293,
          70.32581453634084,
          70.82456140350877,
          71.32330827067669,
          71.82205513784461,
          72.32080200501252,
          72.81954887218045,
          73.31829573934837,
          73.81704260651628,
          74.3157894736842,
          74.81453634085213,
          75.31328320802005,
          75.81203007518796,
          76.31077694235589,
          76.80952380952381,
          77.30827067669172,
          77.80701754385964,
          78.30576441102757,
          78.80451127819549,
          79.3032581453634,
          79.80200501253132,
          80.30075187969925,
          80.79949874686716,
          81.29824561403508,
          81.796992481203,
          82.29573934837093,
          82.79448621553884,
          83.29323308270676,
          83.79197994987469,
          84.2907268170426,
          84.78947368421052,
          85.28822055137844,
          85.78696741854637,
          86.28571428571428,
          86.7844611528822,
          87.28320802005013,
          87.78195488721803,
          88.28070175438596,
          88.77944862155388,
          89.2781954887218,
          89.77694235588972,
          90.27568922305764,
          90.77443609022556,
          91.27318295739347,
          91.7719298245614,
          92.27067669172932,
          92.76942355889724,
          93.26817042606515,
          93.76691729323308,
          94.265664160401,
          94.76441102756891,
          95.26315789473684,
          95.76190476190476,
          96.26065162907268,
          96.75939849624059,
          97.25814536340852,
          97.75689223057644,
          98.25563909774435,
          98.75438596491227,
          99.2531328320802,
          99.75187969924812,
          100.25062656641603,
          100.74937343358395,
          101.24812030075188,
          101.74686716791979,
          102.24561403508771,
          102.74436090225564,
          103.24310776942356,
          103.74185463659147,
          104.2406015037594,
          104.73934837092732,
          105.23809523809523,
          105.73684210526315,
          106.23558897243107,
          106.734335839599,
          107.23308270676691,
          107.73182957393483,
          108.23057644110276,
          108.72932330827066,
          109.22807017543859,
          109.72681704260651,
          110.22556390977444,
          110.72431077694235,
          111.22305764411027,
          111.7218045112782,
          112.2205513784461,
          112.71929824561403,
          113.21804511278195,
          113.71679197994987,
          114.21553884711778,
          114.71428571428571,
          115.21303258145363,
          115.71177944862154,
          116.21052631578947,
          116.70927318295739,
          117.20802005012531,
          117.70676691729322,
          118.20551378446115,
          118.70426065162907,
          119.20300751879698,
          119.7017543859649,
          120.20050125313283,
          120.69924812030075,
          121.19799498746866,
          121.69674185463658,
          122.19548872180451,
          122.69423558897242,
          123.19298245614034,
          123.69172932330827,
          124.19047619047619,
          124.6892230576441,
          125.18796992481202,
          125.68671679197995,
          126.18546365914786,
          126.68421052631578,
          127.1829573934837,
          127.68170426065163,
          128.18045112781954,
          128.67919799498748,
          129.17794486215539,
          129.6766917293233,
          130.17543859649123,
          130.67418546365914,
          131.17293233082705,
          131.671679197995,
          132.1704260651629,
          132.6691729323308,
          133.16791979949875,
          133.66666666666666,
          134.16541353383457,
          134.6641604010025,
          135.16290726817041,
          135.66165413533835,
          136.16040100250626,
          136.65914786967417,
          137.1578947368421,
          137.65664160401002,
          138.15538847117793,
          138.65413533834587,
          139.15288220551378,
          139.6516290726817,
          140.15037593984962,
          140.64912280701753,
          141.14786967418544,
          141.64661654135338,
          142.1453634085213,
          142.64411027568923,
          143.14285714285714,
          143.64160401002505,
          144.140350877193,
          144.6390977443609,
          145.1378446115288,
          145.63659147869674,
          146.13533834586465,
          146.63408521303256,
          147.1328320802005,
          147.6315789473684,
          148.13032581453632,
          148.62907268170426,
          149.12781954887217,
          149.6265664160401,
          150.12531328320802,
          150.62406015037593,
          151.12280701754386,
          151.62155388471177,
          152.12030075187968,
          152.61904761904762,
          153.11779448621553,
          153.61654135338344,
          154.11528822055138,
          154.6140350877193,
          155.1127819548872,
          155.61152882205513,
          156.11027568922304,
          156.60902255639098,
          157.1077694235589,
          157.6065162907268,
          158.10526315789474,
          158.60401002506265,
          159.10275689223056,
          159.6015037593985,
          160.1002506265664,
          160.59899749373432,
          161.09774436090225,
          161.59649122807016,
          162.09523809523807,
          162.593984962406,
          163.09273182957392,
          163.59147869674186,
          164.09022556390977,
          164.58897243107768,
          165.08771929824562,
          165.58646616541353,
          166.08521303258144,
          166.58395989974937,
          167.08270676691728,
          167.5814536340852,
          168.08020050125313,
          168.57894736842104,
          169.07769423558895,
          169.5764411027569,
          170.0751879699248,
          170.57393483709274,
          171.07268170426065,
          171.57142857142856,
          172.0701754385965,
          172.5689223057644,
          173.0676691729323,
          173.56641604010025,
          174.06516290726816,
          174.56390977443607,
          175.062656641604,
          175.56140350877192,
          176.06015037593983,
          176.55889724310777,
          177.05764411027567,
          177.5563909774436,
          178.05513784461152,
          178.55388471177943,
          179.05263157894737,
          179.55137844611528,
          180.0501253132832,
          180.54887218045113,
          181.04761904761904,
          181.54636591478695,
          182.04511278195488,
          182.5438596491228,
          183.0426065162907,
          183.54135338345864,
          184.04010025062655,
          184.5388471177945,
          185.0375939849624,
          185.5363408521303,
          186.03508771929825,
          186.53383458646616,
          187.03258145363407,
          187.531328320802,
          188.0300751879699,
          188.52882205513782,
          189.02756892230576,
          189.52631578947367,
          190.02506265664158,
          190.52380952380952,
          191.02255639097743,
          191.52130325814537,
          192.02005012531328,
          192.51879699248119,
          193.01754385964912,
          193.51629072681703,
          194.01503759398494,
          194.51378446115288,
          195.0125313283208,
          195.5112781954887,
          196.01002506265664,
          196.50877192982455,
          197.00751879699246,
          197.5062656641604,
          198.0050125313283,
          198.50375939849624,
          199.00250626566415,
          199.50125313283206,
          200
         ],
         "y": [
          571.1942825368872,
          362.32558379001,
          190.81125550614578,
          85.44130671715958,
          41.31887776195956,
          18.4851104847608,
          10.230933763907386,
          6.846821640870442,
          4.930070512633171,
          3.63419515477863,
          2.962149946944524,
          2.4770222698419064,
          2.2690000749008217,
          2.069837090940904,
          1.927275641232088,
          1.8344817208100908,
          1.6544817041907958,
          1.4769071761718244,
          1.3373361546563016,
          1.1978099124884791,
          1.0711541380179794,
          0.981179590003889,
          0.8720519851709075,
          0.794380438441527,
          0.7213044280539804,
          0.6471643112097715,
          0.5856649209829611,
          0.5225466440056867,
          0.47448681690805083,
          0.4275080667970873,
          0.39162340328725087,
          0.35800716643294617,
          0.328046669814446,
          0.30116082153091117,
          0.2755769479088403,
          0.25358127621806476,
          0.2351869850356435,
          0.21755775616096143,
          0.20318952843232496,
          0.19280261298430196,
          0.181277282666147,
          0.171637814273926,
          0.16419312912604864,
          0.1535055097756554,
          0.14402491838819045,
          0.13687362329060826,
          0.12767748781331373,
          0.12215179390973249,
          0.1137422939162508,
          0.10747426348177534,
          0.10166523412669527,
          0.09541695715077393,
          0.09041308287300108,
          0.08542981385707474,
          0.08137475196865271,
          0.07773997830173363,
          0.07371555781200036,
          0.07114079418646431,
          0.06783428442970528,
          0.06504315059049946,
          0.06246982580947797,
          0.0584977447290441,
          0.056393258055249584,
          0.05279045435206174,
          0.04982453364486487,
          0.04726455793808763,
          0.04500970837713958,
          0.04282420651420755,
          0.04132532833488828,
          0.03980870202216211,
          0.038276998586163596,
          0.036877481639206074,
          0.035005059877087366,
          0.033465003678839825,
          0.031621711476681774,
          0.029884039386432342,
          0.028616335604191228,
          0.02736020294952541,
          0.02651585218867607,
          0.025919956601420394,
          0.0252672786304118,
          0.024853979675130193,
          0.024163494138089978,
          0.023570967604308313,
          0.02324544736250912,
          0.022677939790245804,
          0.022332880297431485,
          0.02222549242858376,
          0.021899386317839376,
          0.021727059215538067,
          0.021512947434579193,
          0.02109511905210198,
          0.02090433712666992,
          0.02057085045085655,
          0.020192853434763992,
          0.020217245017369885,
          0.01998830935387086,
          0.01977901797925699,
          0.01978240188447828,
          0.019325145063741424,
          0.01906408979526308,
          0.018609697747855845,
          0.01837940276270554,
          0.01813659044692584,
          0.018028834452876123,
          0.018003357916771538,
          0.01786160462358794,
          0.017698388719090234,
          0.017254184819966746,
          0.016970314685798734,
          0.016617206620223382,
          0.016118196719293005,
          0.015791857627935856,
          0.0154915260078739,
          0.015105077061616087,
          0.014917366487071123,
          0.014951989598338251,
          0.014911008286925657,
          0.015057002090704161,
          0.015094219981026532,
          0.015111173547278395,
          0.015065266549225355,
          0.014977082386354375,
          0.014946991680116246,
          0.014877901538817398,
          0.014732288358068094,
          0.014604126574864481,
          0.01445542783024785,
          0.01424488755542687,
          0.013996913471345586,
          0.013807128336965223,
          0.013675881714068505,
          0.013604475302185991,
          0.013471377821138091,
          0.013364844169403428,
          0.013243280731913604,
          0.013122934824704956,
          0.01294981635894392,
          0.012838451652488559,
          0.012684511735334275,
          0.0125228921560861,
          0.01245987864756159,
          0.012603167557301521,
          0.01278746192293042,
          0.013031734620576078,
          0.013178329698350968,
          0.013112711413506584,
          0.013022432936575592,
          0.01286199288905763,
          0.012398957367783485,
          0.012292506402537325,
          0.012235131157228338,
          0.01249162796356268,
          0.012888365169708066,
          0.013327695165080575,
          0.01380865973519029,
          0.014162479394335117,
          0.014187845831441108,
          0.01394356619315807,
          0.013521540676367187,
          0.012941701370198795,
          0.012256691207282632,
          0.011831345944544316,
          0.01160766885087635,
          0.011672776842788455,
          0.012243566175384583,
          0.012832368995037136,
          0.013006137861626542,
          0.0120979319167084,
          0.009713295478331002,
          0.008001887070713564,
          0.006411932272991787,
          0,
          0,
          0,
          0,
          0,
          0,
          0,
          0,
          0,
          0,
          0,
          0,
          0,
          0,
          0,
          0,
          0,
          0,
          0,
          0,
          0,
          0,
          0,
          0,
          0,
          0,
          0,
          0,
          0,
          0,
          0,
          0,
          0,
          0,
          0,
          0,
          0,
          0,
          0,
          0,
          0,
          0,
          0,
          0,
          0,
          0,
          0,
          0,
          0,
          0,
          0,
          0,
          0,
          0,
          0,
          0,
          0,
          0,
          0,
          0,
          0,
          0,
          0,
          0,
          0,
          0,
          0,
          0,
          0,
          0,
          0,
          0,
          0,
          0,
          0,
          0,
          0,
          0,
          0,
          0,
          0,
          0,
          0,
          0,
          0,
          0,
          0,
          0,
          0,
          0,
          0,
          0,
          0,
          0,
          0,
          0,
          0,
          0,
          0,
          0,
          0,
          0,
          0,
          0,
          0,
          0,
          0,
          0,
          0,
          0,
          0,
          0,
          0,
          0,
          0,
          0,
          0,
          0,
          0,
          0,
          0,
          0,
          0,
          0,
          0,
          0,
          0,
          0,
          0,
          0,
          0,
          0,
          0,
          0,
          0,
          0,
          0,
          0,
          0,
          0,
          0,
          0,
          0,
          0,
          0,
          0,
          0,
          0,
          0,
          0,
          0,
          0,
          0,
          0,
          0,
          0,
          0,
          0,
          0,
          0,
          0,
          0,
          0,
          0,
          0,
          0,
          0,
          0,
          0,
          0,
          0,
          0,
          0,
          0,
          0,
          0,
          0,
          0,
          0,
          0,
          0,
          0,
          0,
          0,
          0,
          0,
          0,
          0,
          0,
          0,
          0,
          0,
          0,
          0,
          0,
          0,
          0,
          0,
          0,
          0,
          0,
          0,
          0,
          0,
          0,
          0,
          0,
          0,
          0,
          0,
          0,
          0,
          0,
          0,
          0,
          0,
          0,
          0,
          0,
          0,
          0,
          0,
          0,
          0,
          0,
          0,
          0
         ]
        }
       ],
       "layout": {
        "template": {
         "data": {
          "bar": [
           {
            "error_x": {
             "color": "#2a3f5f"
            },
            "error_y": {
             "color": "#2a3f5f"
            },
            "marker": {
             "line": {
              "color": "#E5ECF6",
              "width": 0.5
             },
             "pattern": {
              "fillmode": "overlay",
              "size": 10,
              "solidity": 0.2
             }
            },
            "type": "bar"
           }
          ],
          "barpolar": [
           {
            "marker": {
             "line": {
              "color": "#E5ECF6",
              "width": 0.5
             },
             "pattern": {
              "fillmode": "overlay",
              "size": 10,
              "solidity": 0.2
             }
            },
            "type": "barpolar"
           }
          ],
          "carpet": [
           {
            "aaxis": {
             "endlinecolor": "#2a3f5f",
             "gridcolor": "white",
             "linecolor": "white",
             "minorgridcolor": "white",
             "startlinecolor": "#2a3f5f"
            },
            "baxis": {
             "endlinecolor": "#2a3f5f",
             "gridcolor": "white",
             "linecolor": "white",
             "minorgridcolor": "white",
             "startlinecolor": "#2a3f5f"
            },
            "type": "carpet"
           }
          ],
          "choropleth": [
           {
            "colorbar": {
             "outlinewidth": 0,
             "ticks": ""
            },
            "type": "choropleth"
           }
          ],
          "contour": [
           {
            "colorbar": {
             "outlinewidth": 0,
             "ticks": ""
            },
            "colorscale": [
             [
              0,
              "#0d0887"
             ],
             [
              0.1111111111111111,
              "#46039f"
             ],
             [
              0.2222222222222222,
              "#7201a8"
             ],
             [
              0.3333333333333333,
              "#9c179e"
             ],
             [
              0.4444444444444444,
              "#bd3786"
             ],
             [
              0.5555555555555556,
              "#d8576b"
             ],
             [
              0.6666666666666666,
              "#ed7953"
             ],
             [
              0.7777777777777778,
              "#fb9f3a"
             ],
             [
              0.8888888888888888,
              "#fdca26"
             ],
             [
              1,
              "#f0f921"
             ]
            ],
            "type": "contour"
           }
          ],
          "contourcarpet": [
           {
            "colorbar": {
             "outlinewidth": 0,
             "ticks": ""
            },
            "type": "contourcarpet"
           }
          ],
          "heatmap": [
           {
            "colorbar": {
             "outlinewidth": 0,
             "ticks": ""
            },
            "colorscale": [
             [
              0,
              "#0d0887"
             ],
             [
              0.1111111111111111,
              "#46039f"
             ],
             [
              0.2222222222222222,
              "#7201a8"
             ],
             [
              0.3333333333333333,
              "#9c179e"
             ],
             [
              0.4444444444444444,
              "#bd3786"
             ],
             [
              0.5555555555555556,
              "#d8576b"
             ],
             [
              0.6666666666666666,
              "#ed7953"
             ],
             [
              0.7777777777777778,
              "#fb9f3a"
             ],
             [
              0.8888888888888888,
              "#fdca26"
             ],
             [
              1,
              "#f0f921"
             ]
            ],
            "type": "heatmap"
           }
          ],
          "heatmapgl": [
           {
            "colorbar": {
             "outlinewidth": 0,
             "ticks": ""
            },
            "colorscale": [
             [
              0,
              "#0d0887"
             ],
             [
              0.1111111111111111,
              "#46039f"
             ],
             [
              0.2222222222222222,
              "#7201a8"
             ],
             [
              0.3333333333333333,
              "#9c179e"
             ],
             [
              0.4444444444444444,
              "#bd3786"
             ],
             [
              0.5555555555555556,
              "#d8576b"
             ],
             [
              0.6666666666666666,
              "#ed7953"
             ],
             [
              0.7777777777777778,
              "#fb9f3a"
             ],
             [
              0.8888888888888888,
              "#fdca26"
             ],
             [
              1,
              "#f0f921"
             ]
            ],
            "type": "heatmapgl"
           }
          ],
          "histogram": [
           {
            "marker": {
             "pattern": {
              "fillmode": "overlay",
              "size": 10,
              "solidity": 0.2
             }
            },
            "type": "histogram"
           }
          ],
          "histogram2d": [
           {
            "colorbar": {
             "outlinewidth": 0,
             "ticks": ""
            },
            "colorscale": [
             [
              0,
              "#0d0887"
             ],
             [
              0.1111111111111111,
              "#46039f"
             ],
             [
              0.2222222222222222,
              "#7201a8"
             ],
             [
              0.3333333333333333,
              "#9c179e"
             ],
             [
              0.4444444444444444,
              "#bd3786"
             ],
             [
              0.5555555555555556,
              "#d8576b"
             ],
             [
              0.6666666666666666,
              "#ed7953"
             ],
             [
              0.7777777777777778,
              "#fb9f3a"
             ],
             [
              0.8888888888888888,
              "#fdca26"
             ],
             [
              1,
              "#f0f921"
             ]
            ],
            "type": "histogram2d"
           }
          ],
          "histogram2dcontour": [
           {
            "colorbar": {
             "outlinewidth": 0,
             "ticks": ""
            },
            "colorscale": [
             [
              0,
              "#0d0887"
             ],
             [
              0.1111111111111111,
              "#46039f"
             ],
             [
              0.2222222222222222,
              "#7201a8"
             ],
             [
              0.3333333333333333,
              "#9c179e"
             ],
             [
              0.4444444444444444,
              "#bd3786"
             ],
             [
              0.5555555555555556,
              "#d8576b"
             ],
             [
              0.6666666666666666,
              "#ed7953"
             ],
             [
              0.7777777777777778,
              "#fb9f3a"
             ],
             [
              0.8888888888888888,
              "#fdca26"
             ],
             [
              1,
              "#f0f921"
             ]
            ],
            "type": "histogram2dcontour"
           }
          ],
          "mesh3d": [
           {
            "colorbar": {
             "outlinewidth": 0,
             "ticks": ""
            },
            "type": "mesh3d"
           }
          ],
          "parcoords": [
           {
            "line": {
             "colorbar": {
              "outlinewidth": 0,
              "ticks": ""
             }
            },
            "type": "parcoords"
           }
          ],
          "pie": [
           {
            "automargin": true,
            "type": "pie"
           }
          ],
          "scatter": [
           {
            "fillpattern": {
             "fillmode": "overlay",
             "size": 10,
             "solidity": 0.2
            },
            "type": "scatter"
           }
          ],
          "scatter3d": [
           {
            "line": {
             "colorbar": {
              "outlinewidth": 0,
              "ticks": ""
             }
            },
            "marker": {
             "colorbar": {
              "outlinewidth": 0,
              "ticks": ""
             }
            },
            "type": "scatter3d"
           }
          ],
          "scattercarpet": [
           {
            "marker": {
             "colorbar": {
              "outlinewidth": 0,
              "ticks": ""
             }
            },
            "type": "scattercarpet"
           }
          ],
          "scattergeo": [
           {
            "marker": {
             "colorbar": {
              "outlinewidth": 0,
              "ticks": ""
             }
            },
            "type": "scattergeo"
           }
          ],
          "scattergl": [
           {
            "marker": {
             "colorbar": {
              "outlinewidth": 0,
              "ticks": ""
             }
            },
            "type": "scattergl"
           }
          ],
          "scattermapbox": [
           {
            "marker": {
             "colorbar": {
              "outlinewidth": 0,
              "ticks": ""
             }
            },
            "type": "scattermapbox"
           }
          ],
          "scatterpolar": [
           {
            "marker": {
             "colorbar": {
              "outlinewidth": 0,
              "ticks": ""
             }
            },
            "type": "scatterpolar"
           }
          ],
          "scatterpolargl": [
           {
            "marker": {
             "colorbar": {
              "outlinewidth": 0,
              "ticks": ""
             }
            },
            "type": "scatterpolargl"
           }
          ],
          "scatterternary": [
           {
            "marker": {
             "colorbar": {
              "outlinewidth": 0,
              "ticks": ""
             }
            },
            "type": "scatterternary"
           }
          ],
          "surface": [
           {
            "colorbar": {
             "outlinewidth": 0,
             "ticks": ""
            },
            "colorscale": [
             [
              0,
              "#0d0887"
             ],
             [
              0.1111111111111111,
              "#46039f"
             ],
             [
              0.2222222222222222,
              "#7201a8"
             ],
             [
              0.3333333333333333,
              "#9c179e"
             ],
             [
              0.4444444444444444,
              "#bd3786"
             ],
             [
              0.5555555555555556,
              "#d8576b"
             ],
             [
              0.6666666666666666,
              "#ed7953"
             ],
             [
              0.7777777777777778,
              "#fb9f3a"
             ],
             [
              0.8888888888888888,
              "#fdca26"
             ],
             [
              1,
              "#f0f921"
             ]
            ],
            "type": "surface"
           }
          ],
          "table": [
           {
            "cells": {
             "fill": {
              "color": "#EBF0F8"
             },
             "line": {
              "color": "white"
             }
            },
            "header": {
             "fill": {
              "color": "#C8D4E3"
             },
             "line": {
              "color": "white"
             }
            },
            "type": "table"
           }
          ]
         },
         "layout": {
          "annotationdefaults": {
           "arrowcolor": "#2a3f5f",
           "arrowhead": 0,
           "arrowwidth": 1
          },
          "autotypenumbers": "strict",
          "coloraxis": {
           "colorbar": {
            "outlinewidth": 0,
            "ticks": ""
           }
          },
          "colorscale": {
           "diverging": [
            [
             0,
             "#8e0152"
            ],
            [
             0.1,
             "#c51b7d"
            ],
            [
             0.2,
             "#de77ae"
            ],
            [
             0.3,
             "#f1b6da"
            ],
            [
             0.4,
             "#fde0ef"
            ],
            [
             0.5,
             "#f7f7f7"
            ],
            [
             0.6,
             "#e6f5d0"
            ],
            [
             0.7,
             "#b8e186"
            ],
            [
             0.8,
             "#7fbc41"
            ],
            [
             0.9,
             "#4d9221"
            ],
            [
             1,
             "#276419"
            ]
           ],
           "sequential": [
            [
             0,
             "#0d0887"
            ],
            [
             0.1111111111111111,
             "#46039f"
            ],
            [
             0.2222222222222222,
             "#7201a8"
            ],
            [
             0.3333333333333333,
             "#9c179e"
            ],
            [
             0.4444444444444444,
             "#bd3786"
            ],
            [
             0.5555555555555556,
             "#d8576b"
            ],
            [
             0.6666666666666666,
             "#ed7953"
            ],
            [
             0.7777777777777778,
             "#fb9f3a"
            ],
            [
             0.8888888888888888,
             "#fdca26"
            ],
            [
             1,
             "#f0f921"
            ]
           ],
           "sequentialminus": [
            [
             0,
             "#0d0887"
            ],
            [
             0.1111111111111111,
             "#46039f"
            ],
            [
             0.2222222222222222,
             "#7201a8"
            ],
            [
             0.3333333333333333,
             "#9c179e"
            ],
            [
             0.4444444444444444,
             "#bd3786"
            ],
            [
             0.5555555555555556,
             "#d8576b"
            ],
            [
             0.6666666666666666,
             "#ed7953"
            ],
            [
             0.7777777777777778,
             "#fb9f3a"
            ],
            [
             0.8888888888888888,
             "#fdca26"
            ],
            [
             1,
             "#f0f921"
            ]
           ]
          },
          "colorway": [
           "#636efa",
           "#EF553B",
           "#00cc96",
           "#ab63fa",
           "#FFA15A",
           "#19d3f3",
           "#FF6692",
           "#B6E880",
           "#FF97FF",
           "#FECB52"
          ],
          "font": {
           "color": "#2a3f5f"
          },
          "geo": {
           "bgcolor": "white",
           "lakecolor": "white",
           "landcolor": "#E5ECF6",
           "showlakes": true,
           "showland": true,
           "subunitcolor": "white"
          },
          "hoverlabel": {
           "align": "left"
          },
          "hovermode": "closest",
          "mapbox": {
           "style": "light"
          },
          "paper_bgcolor": "white",
          "plot_bgcolor": "#E5ECF6",
          "polar": {
           "angularaxis": {
            "gridcolor": "white",
            "linecolor": "white",
            "ticks": ""
           },
           "bgcolor": "#E5ECF6",
           "radialaxis": {
            "gridcolor": "white",
            "linecolor": "white",
            "ticks": ""
           }
          },
          "scene": {
           "xaxis": {
            "backgroundcolor": "#E5ECF6",
            "gridcolor": "white",
            "gridwidth": 2,
            "linecolor": "white",
            "showbackground": true,
            "ticks": "",
            "zerolinecolor": "white"
           },
           "yaxis": {
            "backgroundcolor": "#E5ECF6",
            "gridcolor": "white",
            "gridwidth": 2,
            "linecolor": "white",
            "showbackground": true,
            "ticks": "",
            "zerolinecolor": "white"
           },
           "zaxis": {
            "backgroundcolor": "#E5ECF6",
            "gridcolor": "white",
            "gridwidth": 2,
            "linecolor": "white",
            "showbackground": true,
            "ticks": "",
            "zerolinecolor": "white"
           }
          },
          "shapedefaults": {
           "line": {
            "color": "#2a3f5f"
           }
          },
          "ternary": {
           "aaxis": {
            "gridcolor": "white",
            "linecolor": "white",
            "ticks": ""
           },
           "baxis": {
            "gridcolor": "white",
            "linecolor": "white",
            "ticks": ""
           },
           "bgcolor": "#E5ECF6",
           "caxis": {
            "gridcolor": "white",
            "linecolor": "white",
            "ticks": ""
           }
          },
          "title": {
           "x": 0.05
          },
          "xaxis": {
           "automargin": true,
           "gridcolor": "white",
           "linecolor": "white",
           "ticks": "",
           "title": {
            "standoff": 15
           },
           "zerolinecolor": "white",
           "zerolinewidth": 2
          },
          "yaxis": {
           "automargin": true,
           "gridcolor": "white",
           "linecolor": "white",
           "ticks": "",
           "title": {
            "standoff": 15
           },
           "zerolinecolor": "white",
           "zerolinewidth": 2
          }
         }
        },
        "xaxis": {
         "type": "log"
        },
        "yaxis": {
         "type": "log"
        }
       }
      },
      "text/html": [
       "<div>                            <div id=\"1384d49d-03ee-4504-847c-c22035663476\" class=\"plotly-graph-div\" style=\"height:525px; width:100%;\"></div>            <script type=\"text/javascript\">                require([\"plotly\"], function(Plotly) {                    window.PLOTLYENV=window.PLOTLYENV || {};                                    if (document.getElementById(\"1384d49d-03ee-4504-847c-c22035663476\")) {                    Plotly.newPlot(                        \"1384d49d-03ee-4504-847c-c22035663476\",                        [{\"mode\":\"markers\",\"x\":[1.0,1.4987468671679198,1.9974937343358397,2.496240601503759,2.9949874686716793,3.4937343358395987,3.9924812030075185,4.491228070175438,4.989974937343359,5.488721804511278,5.987468671679197,6.486215538847118,6.984962406015037,7.483709273182957,7.982456140350877,8.481203007518797,8.979949874686717,9.478696741854636,9.977443609022556,10.476190476190476,10.974937343358395,11.473684210526315,11.972431077694235,12.471177944862156,12.969924812030074,13.468671679197994,13.967418546365915,14.466165413533833,14.964912280701753,15.463659147869674,15.962406015037594,16.46115288220551,16.959899749373434,17.45864661654135,17.95739348370927,18.45614035087719,18.954887218045112,19.453634085213032,19.952380952380953,20.451127819548873,20.94987468671679,21.44862155388471,21.94736842105263,22.44611528822055,22.94486215538847,23.44360902255639,23.94235588972431,24.441102756892228,24.939849624060148,25.43859649122807,25.93734335839599,26.43609022556391,26.93483709273183,27.43358395989975,27.932330827067666,28.431077694235587,28.929824561403507,29.428571428571427,29.927318295739347,30.426065162907268,30.924812030075188,31.423558897243105,31.922305764411025,32.421052631578945,32.91979949874687,33.418546365914786,33.9172932330827,34.416040100250626,34.91478696741854,35.41353383458647,35.91228070175438,36.41102756892231,36.909774436090224,37.40852130325814,37.907268170426065,38.40601503759398,38.904761904761905,39.40350877192982,39.902255639097746,40.40100250626566,40.89974937343358,41.3984962406015,41.89724310776942,42.39598997493734,42.89473684210526,43.393483709273184,43.8922305764411,44.39097744360902,44.88972431077694,45.38847117794486,45.88721804511278,46.3859649122807,46.88471177944862,47.38345864661654,47.882205513784456,48.38095238095238,48.879699248120296,49.37844611528822,49.87719298245614,50.37593984962406,50.87468671679198,51.373433583959894,51.87218045112782,52.370927318295735,52.86967418546366,53.368421052631575,53.8671679197995,54.365914786967416,54.86466165413533,55.363408521303256,55.86215538847117,56.3609022556391,56.859649122807014,57.35839598997494,57.857142857142854,58.35588972431077,58.854636591478695,59.35338345864661,59.852130325814535,60.35087719298245,60.849624060150376,61.34837092731829,61.84711779448621,62.34586466165413,62.84461152882205,63.34335839598997,63.84210526315789,64.34085213032581,64.83959899749374,65.33834586466165,65.83709273182957,66.3358395989975,66.8345864661654,67.33333333333333,67.83208020050125,68.33082706766918,68.82957393483709,69.32832080200501,69.82706766917293,70.32581453634084,70.82456140350877,71.32330827067669,71.82205513784461,72.32080200501252,72.81954887218045,73.31829573934837,73.81704260651628,74.3157894736842,74.81453634085213,75.31328320802005,75.81203007518796,76.31077694235589,76.80952380952381,77.30827067669172,77.80701754385964,78.30576441102757,78.80451127819549,79.3032581453634,79.80200501253132,80.30075187969925,80.79949874686716,81.29824561403508,81.796992481203,82.29573934837093,82.79448621553884,83.29323308270676,83.79197994987469,84.2907268170426,84.78947368421052,85.28822055137844,85.78696741854637,86.28571428571428,86.7844611528822,87.28320802005013,87.78195488721803,88.28070175438596,88.77944862155388,89.2781954887218,89.77694235588972,90.27568922305764,90.77443609022556,91.27318295739347,91.7719298245614,92.27067669172932,92.76942355889724,93.26817042606515,93.76691729323308,94.265664160401,94.76441102756891,95.26315789473684,95.76190476190476,96.26065162907268,96.75939849624059,97.25814536340852,97.75689223057644,98.25563909774435,98.75438596491227,99.2531328320802,99.75187969924812,100.25062656641603,100.74937343358395,101.24812030075188,101.74686716791979,102.24561403508771,102.74436090225564,103.24310776942356,103.74185463659147,104.2406015037594,104.73934837092732,105.23809523809523,105.73684210526315,106.23558897243107,106.734335839599,107.23308270676691,107.73182957393483,108.23057644110276,108.72932330827066,109.22807017543859,109.72681704260651,110.22556390977444,110.72431077694235,111.22305764411027,111.7218045112782,112.2205513784461,112.71929824561403,113.21804511278195,113.71679197994987,114.21553884711778,114.71428571428571,115.21303258145363,115.71177944862154,116.21052631578947,116.70927318295739,117.20802005012531,117.70676691729322,118.20551378446115,118.70426065162907,119.20300751879698,119.7017543859649,120.20050125313283,120.69924812030075,121.19799498746866,121.69674185463658,122.19548872180451,122.69423558897242,123.19298245614034,123.69172932330827,124.19047619047619,124.6892230576441,125.18796992481202,125.68671679197995,126.18546365914786,126.68421052631578,127.1829573934837,127.68170426065163,128.18045112781954,128.67919799498748,129.17794486215539,129.6766917293233,130.17543859649123,130.67418546365914,131.17293233082705,131.671679197995,132.1704260651629,132.6691729323308,133.16791979949875,133.66666666666666,134.16541353383457,134.6641604010025,135.16290726817041,135.66165413533835,136.16040100250626,136.65914786967417,137.1578947368421,137.65664160401002,138.15538847117793,138.65413533834587,139.15288220551378,139.6516290726817,140.15037593984962,140.64912280701753,141.14786967418544,141.64661654135338,142.1453634085213,142.64411027568923,143.14285714285714,143.64160401002505,144.140350877193,144.6390977443609,145.1378446115288,145.63659147869674,146.13533834586465,146.63408521303256,147.1328320802005,147.6315789473684,148.13032581453632,148.62907268170426,149.12781954887217,149.6265664160401,150.12531328320802,150.62406015037593,151.12280701754386,151.62155388471177,152.12030075187968,152.61904761904762,153.11779448621553,153.61654135338344,154.11528822055138,154.6140350877193,155.1127819548872,155.61152882205513,156.11027568922304,156.60902255639098,157.1077694235589,157.6065162907268,158.10526315789474,158.60401002506265,159.10275689223056,159.6015037593985,160.1002506265664,160.59899749373432,161.09774436090225,161.59649122807016,162.09523809523807,162.593984962406,163.09273182957392,163.59147869674186,164.09022556390977,164.58897243107768,165.08771929824562,165.58646616541353,166.08521303258144,166.58395989974937,167.08270676691728,167.5814536340852,168.08020050125313,168.57894736842104,169.07769423558895,169.5764411027569,170.0751879699248,170.57393483709274,171.07268170426065,171.57142857142856,172.0701754385965,172.5689223057644,173.0676691729323,173.56641604010025,174.06516290726816,174.56390977443607,175.062656641604,175.56140350877192,176.06015037593983,176.55889724310777,177.05764411027567,177.5563909774436,178.05513784461152,178.55388471177943,179.05263157894737,179.55137844611528,180.0501253132832,180.54887218045113,181.04761904761904,181.54636591478695,182.04511278195488,182.5438596491228,183.0426065162907,183.54135338345864,184.04010025062655,184.5388471177945,185.0375939849624,185.5363408521303,186.03508771929825,186.53383458646616,187.03258145363407,187.531328320802,188.0300751879699,188.52882205513782,189.02756892230576,189.52631578947367,190.02506265664158,190.52380952380952,191.02255639097743,191.52130325814537,192.02005012531328,192.51879699248119,193.01754385964912,193.51629072681703,194.01503759398494,194.51378446115288,195.0125313283208,195.5112781954887,196.01002506265664,196.50877192982455,197.00751879699246,197.5062656641604,198.0050125313283,198.50375939849624,199.00250626566415,199.50125313283206,200.0],\"y\":[571.1942825368872,362.32558379001,190.81125550614578,85.44130671715958,41.31887776195956,18.4851104847608,10.230933763907386,6.846821640870442,4.930070512633171,3.63419515477863,2.962149946944524,2.4770222698419064,2.2690000749008217,2.069837090940904,1.927275641232088,1.8344817208100908,1.6544817041907958,1.4769071761718244,1.3373361546563016,1.1978099124884791,1.0711541380179794,0.981179590003889,0.8720519851709075,0.794380438441527,0.7213044280539804,0.6471643112097715,0.5856649209829611,0.5225466440056867,0.47448681690805083,0.4275080667970873,0.39162340328725087,0.35800716643294617,0.328046669814446,0.30116082153091117,0.2755769479088403,0.25358127621806476,0.2351869850356435,0.21755775616096143,0.20318952843232496,0.19280261298430196,0.181277282666147,0.171637814273926,0.16419312912604864,0.1535055097756554,0.14402491838819045,0.13687362329060826,0.12767748781331373,0.12215179390973249,0.1137422939162508,0.10747426348177534,0.10166523412669527,0.09541695715077393,0.09041308287300108,0.08542981385707474,0.08137475196865271,0.07773997830173363,0.07371555781200036,0.07114079418646431,0.06783428442970528,0.06504315059049946,0.06246982580947797,0.0584977447290441,0.056393258055249584,0.05279045435206174,0.04982453364486487,0.04726455793808763,0.04500970837713958,0.04282420651420755,0.04132532833488828,0.03980870202216211,0.038276998586163596,0.036877481639206074,0.035005059877087366,0.033465003678839825,0.031621711476681774,0.029884039386432342,0.028616335604191228,0.02736020294952541,0.02651585218867607,0.025919956601420394,0.0252672786304118,0.024853979675130193,0.024163494138089978,0.023570967604308313,0.02324544736250912,0.022677939790245804,0.022332880297431485,0.02222549242858376,0.021899386317839376,0.021727059215538067,0.021512947434579193,0.02109511905210198,0.02090433712666992,0.02057085045085655,0.020192853434763992,0.020217245017369885,0.01998830935387086,0.01977901797925699,0.01978240188447828,0.019325145063741424,0.01906408979526308,0.018609697747855845,0.01837940276270554,0.01813659044692584,0.018028834452876123,0.018003357916771538,0.01786160462358794,0.017698388719090234,0.017254184819966746,0.016970314685798734,0.016617206620223382,0.016118196719293005,0.015791857627935856,0.0154915260078739,0.015105077061616087,0.014917366487071123,0.014951989598338251,0.014911008286925657,0.015057002090704161,0.015094219981026532,0.015111173547278395,0.015065266549225355,0.014977082386354375,0.014946991680116246,0.014877901538817398,0.014732288358068094,0.014604126574864481,0.01445542783024785,0.01424488755542687,0.013996913471345586,0.013807128336965223,0.013675881714068505,0.013604475302185991,0.013471377821138091,0.013364844169403428,0.013243280731913604,0.013122934824704956,0.01294981635894392,0.012838451652488559,0.012684511735334275,0.0125228921560861,0.01245987864756159,0.012603167557301521,0.01278746192293042,0.013031734620576078,0.013178329698350968,0.013112711413506584,0.013022432936575592,0.01286199288905763,0.012398957367783485,0.012292506402537325,0.012235131157228338,0.01249162796356268,0.012888365169708066,0.013327695165080575,0.01380865973519029,0.014162479394335117,0.014187845831441108,0.01394356619315807,0.013521540676367187,0.012941701370198795,0.012256691207282632,0.011831345944544316,0.01160766885087635,0.011672776842788455,0.012243566175384583,0.012832368995037136,0.013006137861626542,0.0120979319167084,0.009713295478331002,0.008001887070713564,0.006411932272991787,0.0,0.0,0.0,0.0,0.0,0.0,0.0,0.0,0.0,0.0,0.0,0.0,0.0,0.0,0.0,0.0,0.0,0.0,0.0,0.0,0.0,0.0,0.0,0.0,0.0,0.0,0.0,0.0,0.0,0.0,0.0,0.0,0.0,0.0,0.0,0.0,0.0,0.0,0.0,0.0,0.0,0.0,0.0,0.0,0.0,0.0,0.0,0.0,0.0,0.0,0.0,0.0,0.0,0.0,0.0,0.0,0.0,0.0,0.0,0.0,0.0,0.0,0.0,0.0,0.0,0.0,0.0,0.0,0.0,0.0,0.0,0.0,0.0,0.0,0.0,0.0,0.0,0.0,0.0,0.0,0.0,0.0,0.0,0.0,0.0,0.0,0.0,0.0,0.0,0.0,0.0,0.0,0.0,0.0,0.0,0.0,0.0,0.0,0.0,0.0,0.0,0.0,0.0,0.0,0.0,0.0,0.0,0.0,0.0,0.0,0.0,0.0,0.0,0.0,0.0,0.0,0.0,0.0,0.0,0.0,0.0,0.0,0.0,0.0,0.0,0.0,0.0,0.0,0.0,0.0,0.0,0.0,0.0,0.0,0.0,0.0,0.0,0.0,0.0,0.0,0.0,0.0,0.0,0.0,0.0,0.0,0.0,0.0,0.0,0.0,0.0,0.0,0.0,0.0,0.0,0.0,0.0,0.0,0.0,0.0,0.0,0.0,0.0,0.0,0.0,0.0,0.0,0.0,0.0,0.0,0.0,0.0,0.0,0.0,0.0,0.0,0.0,0.0,0.0,0.0,0.0,0.0,0.0,0.0,0.0,0.0,0.0,0.0,0.0,0.0,0.0,0.0,0.0,0.0,0.0,0.0,0.0,0.0,0.0,0.0,0.0,0.0,0.0,0.0,0.0,0.0,0.0,0.0,0.0,0.0,0.0,0.0,0.0,0.0,0.0,0.0,0.0,0.0,0.0,0.0,0.0,0.0,0.0,0.0,0.0,0.0,0.0],\"type\":\"scatter\"}],                        {\"template\":{\"data\":{\"histogram2dcontour\":[{\"type\":\"histogram2dcontour\",\"colorbar\":{\"outlinewidth\":0,\"ticks\":\"\"},\"colorscale\":[[0.0,\"#0d0887\"],[0.1111111111111111,\"#46039f\"],[0.2222222222222222,\"#7201a8\"],[0.3333333333333333,\"#9c179e\"],[0.4444444444444444,\"#bd3786\"],[0.5555555555555556,\"#d8576b\"],[0.6666666666666666,\"#ed7953\"],[0.7777777777777778,\"#fb9f3a\"],[0.8888888888888888,\"#fdca26\"],[1.0,\"#f0f921\"]]}],\"choropleth\":[{\"type\":\"choropleth\",\"colorbar\":{\"outlinewidth\":0,\"ticks\":\"\"}}],\"histogram2d\":[{\"type\":\"histogram2d\",\"colorbar\":{\"outlinewidth\":0,\"ticks\":\"\"},\"colorscale\":[[0.0,\"#0d0887\"],[0.1111111111111111,\"#46039f\"],[0.2222222222222222,\"#7201a8\"],[0.3333333333333333,\"#9c179e\"],[0.4444444444444444,\"#bd3786\"],[0.5555555555555556,\"#d8576b\"],[0.6666666666666666,\"#ed7953\"],[0.7777777777777778,\"#fb9f3a\"],[0.8888888888888888,\"#fdca26\"],[1.0,\"#f0f921\"]]}],\"heatmap\":[{\"type\":\"heatmap\",\"colorbar\":{\"outlinewidth\":0,\"ticks\":\"\"},\"colorscale\":[[0.0,\"#0d0887\"],[0.1111111111111111,\"#46039f\"],[0.2222222222222222,\"#7201a8\"],[0.3333333333333333,\"#9c179e\"],[0.4444444444444444,\"#bd3786\"],[0.5555555555555556,\"#d8576b\"],[0.6666666666666666,\"#ed7953\"],[0.7777777777777778,\"#fb9f3a\"],[0.8888888888888888,\"#fdca26\"],[1.0,\"#f0f921\"]]}],\"heatmapgl\":[{\"type\":\"heatmapgl\",\"colorbar\":{\"outlinewidth\":0,\"ticks\":\"\"},\"colorscale\":[[0.0,\"#0d0887\"],[0.1111111111111111,\"#46039f\"],[0.2222222222222222,\"#7201a8\"],[0.3333333333333333,\"#9c179e\"],[0.4444444444444444,\"#bd3786\"],[0.5555555555555556,\"#d8576b\"],[0.6666666666666666,\"#ed7953\"],[0.7777777777777778,\"#fb9f3a\"],[0.8888888888888888,\"#fdca26\"],[1.0,\"#f0f921\"]]}],\"contourcarpet\":[{\"type\":\"contourcarpet\",\"colorbar\":{\"outlinewidth\":0,\"ticks\":\"\"}}],\"contour\":[{\"type\":\"contour\",\"colorbar\":{\"outlinewidth\":0,\"ticks\":\"\"},\"colorscale\":[[0.0,\"#0d0887\"],[0.1111111111111111,\"#46039f\"],[0.2222222222222222,\"#7201a8\"],[0.3333333333333333,\"#9c179e\"],[0.4444444444444444,\"#bd3786\"],[0.5555555555555556,\"#d8576b\"],[0.6666666666666666,\"#ed7953\"],[0.7777777777777778,\"#fb9f3a\"],[0.8888888888888888,\"#fdca26\"],[1.0,\"#f0f921\"]]}],\"surface\":[{\"type\":\"surface\",\"colorbar\":{\"outlinewidth\":0,\"ticks\":\"\"},\"colorscale\":[[0.0,\"#0d0887\"],[0.1111111111111111,\"#46039f\"],[0.2222222222222222,\"#7201a8\"],[0.3333333333333333,\"#9c179e\"],[0.4444444444444444,\"#bd3786\"],[0.5555555555555556,\"#d8576b\"],[0.6666666666666666,\"#ed7953\"],[0.7777777777777778,\"#fb9f3a\"],[0.8888888888888888,\"#fdca26\"],[1.0,\"#f0f921\"]]}],\"mesh3d\":[{\"type\":\"mesh3d\",\"colorbar\":{\"outlinewidth\":0,\"ticks\":\"\"}}],\"scatter\":[{\"fillpattern\":{\"fillmode\":\"overlay\",\"size\":10,\"solidity\":0.2},\"type\":\"scatter\"}],\"parcoords\":[{\"type\":\"parcoords\",\"line\":{\"colorbar\":{\"outlinewidth\":0,\"ticks\":\"\"}}}],\"scatterpolargl\":[{\"type\":\"scatterpolargl\",\"marker\":{\"colorbar\":{\"outlinewidth\":0,\"ticks\":\"\"}}}],\"bar\":[{\"error_x\":{\"color\":\"#2a3f5f\"},\"error_y\":{\"color\":\"#2a3f5f\"},\"marker\":{\"line\":{\"color\":\"#E5ECF6\",\"width\":0.5},\"pattern\":{\"fillmode\":\"overlay\",\"size\":10,\"solidity\":0.2}},\"type\":\"bar\"}],\"scattergeo\":[{\"type\":\"scattergeo\",\"marker\":{\"colorbar\":{\"outlinewidth\":0,\"ticks\":\"\"}}}],\"scatterpolar\":[{\"type\":\"scatterpolar\",\"marker\":{\"colorbar\":{\"outlinewidth\":0,\"ticks\":\"\"}}}],\"histogram\":[{\"marker\":{\"pattern\":{\"fillmode\":\"overlay\",\"size\":10,\"solidity\":0.2}},\"type\":\"histogram\"}],\"scattergl\":[{\"type\":\"scattergl\",\"marker\":{\"colorbar\":{\"outlinewidth\":0,\"ticks\":\"\"}}}],\"scatter3d\":[{\"type\":\"scatter3d\",\"line\":{\"colorbar\":{\"outlinewidth\":0,\"ticks\":\"\"}},\"marker\":{\"colorbar\":{\"outlinewidth\":0,\"ticks\":\"\"}}}],\"scattermapbox\":[{\"type\":\"scattermapbox\",\"marker\":{\"colorbar\":{\"outlinewidth\":0,\"ticks\":\"\"}}}],\"scatterternary\":[{\"type\":\"scatterternary\",\"marker\":{\"colorbar\":{\"outlinewidth\":0,\"ticks\":\"\"}}}],\"scattercarpet\":[{\"type\":\"scattercarpet\",\"marker\":{\"colorbar\":{\"outlinewidth\":0,\"ticks\":\"\"}}}],\"carpet\":[{\"aaxis\":{\"endlinecolor\":\"#2a3f5f\",\"gridcolor\":\"white\",\"linecolor\":\"white\",\"minorgridcolor\":\"white\",\"startlinecolor\":\"#2a3f5f\"},\"baxis\":{\"endlinecolor\":\"#2a3f5f\",\"gridcolor\":\"white\",\"linecolor\":\"white\",\"minorgridcolor\":\"white\",\"startlinecolor\":\"#2a3f5f\"},\"type\":\"carpet\"}],\"table\":[{\"cells\":{\"fill\":{\"color\":\"#EBF0F8\"},\"line\":{\"color\":\"white\"}},\"header\":{\"fill\":{\"color\":\"#C8D4E3\"},\"line\":{\"color\":\"white\"}},\"type\":\"table\"}],\"barpolar\":[{\"marker\":{\"line\":{\"color\":\"#E5ECF6\",\"width\":0.5},\"pattern\":{\"fillmode\":\"overlay\",\"size\":10,\"solidity\":0.2}},\"type\":\"barpolar\"}],\"pie\":[{\"automargin\":true,\"type\":\"pie\"}]},\"layout\":{\"autotypenumbers\":\"strict\",\"colorway\":[\"#636efa\",\"#EF553B\",\"#00cc96\",\"#ab63fa\",\"#FFA15A\",\"#19d3f3\",\"#FF6692\",\"#B6E880\",\"#FF97FF\",\"#FECB52\"],\"font\":{\"color\":\"#2a3f5f\"},\"hovermode\":\"closest\",\"hoverlabel\":{\"align\":\"left\"},\"paper_bgcolor\":\"white\",\"plot_bgcolor\":\"#E5ECF6\",\"polar\":{\"bgcolor\":\"#E5ECF6\",\"angularaxis\":{\"gridcolor\":\"white\",\"linecolor\":\"white\",\"ticks\":\"\"},\"radialaxis\":{\"gridcolor\":\"white\",\"linecolor\":\"white\",\"ticks\":\"\"}},\"ternary\":{\"bgcolor\":\"#E5ECF6\",\"aaxis\":{\"gridcolor\":\"white\",\"linecolor\":\"white\",\"ticks\":\"\"},\"baxis\":{\"gridcolor\":\"white\",\"linecolor\":\"white\",\"ticks\":\"\"},\"caxis\":{\"gridcolor\":\"white\",\"linecolor\":\"white\",\"ticks\":\"\"}},\"coloraxis\":{\"colorbar\":{\"outlinewidth\":0,\"ticks\":\"\"}},\"colorscale\":{\"sequential\":[[0.0,\"#0d0887\"],[0.1111111111111111,\"#46039f\"],[0.2222222222222222,\"#7201a8\"],[0.3333333333333333,\"#9c179e\"],[0.4444444444444444,\"#bd3786\"],[0.5555555555555556,\"#d8576b\"],[0.6666666666666666,\"#ed7953\"],[0.7777777777777778,\"#fb9f3a\"],[0.8888888888888888,\"#fdca26\"],[1.0,\"#f0f921\"]],\"sequentialminus\":[[0.0,\"#0d0887\"],[0.1111111111111111,\"#46039f\"],[0.2222222222222222,\"#7201a8\"],[0.3333333333333333,\"#9c179e\"],[0.4444444444444444,\"#bd3786\"],[0.5555555555555556,\"#d8576b\"],[0.6666666666666666,\"#ed7953\"],[0.7777777777777778,\"#fb9f3a\"],[0.8888888888888888,\"#fdca26\"],[1.0,\"#f0f921\"]],\"diverging\":[[0,\"#8e0152\"],[0.1,\"#c51b7d\"],[0.2,\"#de77ae\"],[0.3,\"#f1b6da\"],[0.4,\"#fde0ef\"],[0.5,\"#f7f7f7\"],[0.6,\"#e6f5d0\"],[0.7,\"#b8e186\"],[0.8,\"#7fbc41\"],[0.9,\"#4d9221\"],[1,\"#276419\"]]},\"xaxis\":{\"gridcolor\":\"white\",\"linecolor\":\"white\",\"ticks\":\"\",\"title\":{\"standoff\":15},\"zerolinecolor\":\"white\",\"automargin\":true,\"zerolinewidth\":2},\"yaxis\":{\"gridcolor\":\"white\",\"linecolor\":\"white\",\"ticks\":\"\",\"title\":{\"standoff\":15},\"zerolinecolor\":\"white\",\"automargin\":true,\"zerolinewidth\":2},\"scene\":{\"xaxis\":{\"backgroundcolor\":\"#E5ECF6\",\"gridcolor\":\"white\",\"linecolor\":\"white\",\"showbackground\":true,\"ticks\":\"\",\"zerolinecolor\":\"white\",\"gridwidth\":2},\"yaxis\":{\"backgroundcolor\":\"#E5ECF6\",\"gridcolor\":\"white\",\"linecolor\":\"white\",\"showbackground\":true,\"ticks\":\"\",\"zerolinecolor\":\"white\",\"gridwidth\":2},\"zaxis\":{\"backgroundcolor\":\"#E5ECF6\",\"gridcolor\":\"white\",\"linecolor\":\"white\",\"showbackground\":true,\"ticks\":\"\",\"zerolinecolor\":\"white\",\"gridwidth\":2}},\"shapedefaults\":{\"line\":{\"color\":\"#2a3f5f\"}},\"annotationdefaults\":{\"arrowcolor\":\"#2a3f5f\",\"arrowhead\":0,\"arrowwidth\":1},\"geo\":{\"bgcolor\":\"white\",\"landcolor\":\"#E5ECF6\",\"subunitcolor\":\"white\",\"showland\":true,\"showlakes\":true,\"lakecolor\":\"white\"},\"title\":{\"x\":0.05},\"mapbox\":{\"style\":\"light\"}}},\"yaxis\":{\"type\":\"log\"},\"xaxis\":{\"type\":\"log\"}},                        {\"responsive\": true}                    ).then(function(){\n",
       "                            \n",
       "var gd = document.getElementById('1384d49d-03ee-4504-847c-c22035663476');\n",
       "var x = new MutationObserver(function (mutations, observer) {{\n",
       "        var display = window.getComputedStyle(gd).display;\n",
       "        if (!display || display === 'none') {{\n",
       "            console.log([gd, 'removed!']);\n",
       "            Plotly.purge(gd);\n",
       "            observer.disconnect();\n",
       "        }}\n",
       "}});\n",
       "\n",
       "// Listen for the removal of the full notebook cells\n",
       "var notebookContainer = gd.closest('#notebook-container');\n",
       "if (notebookContainer) {{\n",
       "    x.observe(notebookContainer, {childList: true});\n",
       "}}\n",
       "\n",
       "// Listen for the clearing of the current output cell\n",
       "var outputEl = gd.closest('.output');\n",
       "if (outputEl) {{\n",
       "    x.observe(outputEl, {childList: true});\n",
       "}}\n",
       "\n",
       "                        })                };                });            </script>        </div>"
      ]
     },
     "metadata": {},
     "output_type": "display_data"
    }
   ],
   "source": [
    "fig.show()"
   ]
  },
  {
   "cell_type": "code",
   "execution_count": 327,
   "metadata": {},
   "outputs": [
    {
     "data": {
      "text/plain": [
       "34820.60499211507"
      ]
     },
     "execution_count": 327,
     "metadata": {},
     "output_type": "execute_result"
    }
   ],
   "source": [
    "Rho = get_density(centered_Psi)\n",
    "np.sum(Rho.flatten()[radius_grid_f < 7]) * (100/128)**3"
   ]
  },
  {
   "cell_type": "code",
   "execution_count": 318,
   "metadata": {},
   "outputs": [],
   "source": [
    "# Psi = load_snaps_at(f\"../outputs/2022-07-30/8-solitons-random-128-nosi-run-1/\", [0.25])[-1]\n",
    "Psi = all_Psis[6][0][-1]"
   ]
  },
  {
   "cell_type": "code",
   "execution_count": 319,
   "metadata": {},
   "outputs": [
    {
     "name": "stdout",
     "output_type": "stream",
     "text": [
      "densest_point_idx: (10, 38, 106)\n",
      "selection radius = 4.072472611334098\n"
     ]
    }
   ],
   "source": [
    "centered_Psi = shift_around_core(Psi)\n",
    "radius, boundary_points, selected_Psi = find_dense_circle(centered_Psi)\n",
    "(bx, by, bz) = boundary_points\n",
    "plots = [\n",
    "\t[plot_snap_density(centered_Psi)],\n",
    "]\n",
    "fig, js = plot_multiple_3Ds(plots)\n",
    "fig.add_trace(pgo.Mesh3d(\n",
    "\tx=bx, y=by, z=bz,\n",
    "\topacity=0.4, color='red', alphahull=0,\n",
    "), 1, 1)\n",
    "fig.update_layout(\n",
    "\tcoloraxis = {\n",
    "\t\t'colorscale': 'viridis',\n",
    "\t\t'cmin': 0.0,\n",
    "\t\t'cmax': 1.0,\n",
    "\t},\n",
    ")\n",
    "fig.write_html(\"2022-07-30-run-1-nosi-shifted.html\", post_script=js)\n",
    "pass"
   ]
  },
  {
   "cell_type": "code",
   "execution_count": 210,
   "metadata": {},
   "outputs": [
    {
     "data": {
      "text/plain": [
       "0.7874015748031482"
      ]
     },
     "execution_count": 210,
     "metadata": {},
     "output_type": "execute_result"
    }
   ],
   "source": [
    "space_lin[1] - space_lin[0]"
   ]
  },
  {
   "cell_type": "code",
   "execution_count": 159,
   "metadata": {},
   "outputs": [],
   "source": [
    "def spin_norm_over_mass(Psi):\n",
    "\tnorm = np.sqrt(np.sum(np.square(\n",
    "\t\tnp.sum(get_spins(Psi), axis=tuple(range(1,Psi.ndim)))\n",
    "\t)))\n",
    "\tmass = np.sum(get_density(Psi))\n",
    "\treturn norm / mass\n",
    "\n",
    "def test_spin_norm_over_mass(Psis):\n",
    "\tx = []\n",
    "\ty = []\n",
    "\thovertexts = []\n",
    "\tfor (n, Psi) in enumerate(Psis, start=1):\n",
    "\t\tcentered_Psi = shift_around_core(Psi)\n",
    "\t\tradius, boundary_points, selected_Psi = find_dense_circle(centered_Psi)\n",
    "\t\tx.append(spin_norm_over_mass(Psi))\n",
    "\t\ty.append(spin_norm_over_mass(selected_Psi))\n",
    "\t\thovertexts.append(f\"simulation {n} selected_radius={radius}\")\n",
    "\treturn pgo.Scatter(\n",
    "\t\tx=x, y=y,\n",
    "\t\thovertext=hovertexts,\n",
    "\t\tmode=\"markers\"\n",
    "\t)\n"
   ]
  },
  {
   "cell_type": "code",
   "execution_count": 160,
   "metadata": {},
   "outputs": [
    {
     "name": "stdout",
     "output_type": "stream",
     "text": [
      "densest_point_idx: (65, 68, 107)\n",
      "selection radius = 2.329165268936858\n",
      "warn: selected volume is small. boundary_arg=0\n",
      "densest_point_idx: (94, 10, 105)\n",
      "selection radius = 2.5816687103551166\n",
      "warn: selected volume is small. boundary_arg=17\n",
      "densest_point_idx: (7, 82, 19)\n",
      "selection radius = 2.329165268936858\n",
      "warn: selected volume is small. boundary_arg=0\n",
      "densest_point_idx: (98, 13, 64)\n",
      "selection radius = 2.329165268936858\n",
      "warn: selected volume is small. boundary_arg=0\n",
      "densest_point_idx: (113, 71, 85)\n",
      "selection radius = 2.329165268936858\n",
      "warn: selected volume is small. boundary_arg=0\n",
      "densest_point_idx: (48, 0, 113)\n",
      "selection radius = 2.329165268936858\n",
      "warn: selected volume is small. boundary_arg=0\n",
      "densest_point_idx: (10, 37, 106)\n",
      "selection radius = 2.329165268936858\n",
      "warn: selected volume is small. boundary_arg=0\n",
      "densest_point_idx: (50, 69, 64)\n",
      "selection radius = 2.329165268936858\n",
      "warn: selected volume is small. boundary_arg=0\n",
      "densest_point_idx: (65, 76, 105)\n",
      "selection radius = 2.329165268936858\n",
      "warn: selected volume is small. boundary_arg=0\n",
      "densest_point_idx: (94, 9, 103)\n",
      "selection radius = 2.329165268936858\n",
      "warn: selected volume is small. boundary_arg=0\n",
      "densest_point_idx: (5, 83, 20)\n",
      "selection radius = 2.329165268936858\n",
      "warn: selected volume is small. boundary_arg=0\n",
      "densest_point_idx: (99, 13, 68)\n",
      "selection radius = 2.329165268936858\n",
      "warn: selected volume is small. boundary_arg=0\n",
      "densest_point_idx: (114, 73, 88)\n",
      "selection radius = 2.329165268936858\n",
      "warn: selected volume is small. boundary_arg=0\n",
      "densest_point_idx: (48, 2, 116)\n",
      "selection radius = 2.329165268936858\n",
      "warn: selected volume is small. boundary_arg=0\n",
      "densest_point_idx: (13, 33, 105)\n",
      "selection radius = 2.329165268936858\n",
      "warn: selected volume is small. boundary_arg=0\n",
      "densest_point_idx: (39, 69, 73)\n",
      "selection radius = 2.329165268936858\n",
      "warn: selected volume is small. boundary_arg=0\n",
      "densest_point_idx: (63, 77, 102)\n",
      "selection radius = 2.329165268936858\n",
      "warn: selected volume is small. boundary_arg=0\n",
      "densest_point_idx: (96, 9, 105)\n",
      "selection radius = 2.5816687103551197\n",
      "warn: selected volume is small. boundary_arg=30\n",
      "densest_point_idx: (9, 78, 20)\n",
      "selection radius = 2.329165268936858\n",
      "warn: selected volume is small. boundary_arg=0\n",
      "densest_point_idx: (99, 15, 66)\n",
      "selection radius = 2.329165268936858\n",
      "warn: selected volume is small. boundary_arg=0\n",
      "densest_point_idx: (110, 76, 85)\n",
      "selection radius = 2.329165268936858\n",
      "warn: selected volume is small. boundary_arg=0\n",
      "densest_point_idx: (46, 2, 114)\n",
      "selection radius = 2.329165268936858\n",
      "warn: selected volume is small. boundary_arg=0\n",
      "densest_point_idx: (12, 35, 111)\n",
      "selection radius = 2.329165268936858\n",
      "warn: selected volume is small. boundary_arg=0\n",
      "densest_point_idx: (46, 67, 65)\n",
      "selection radius = 2.329165268936858\n",
      "warn: selected volume is small. boundary_arg=0\n"
     ]
    }
   ],
   "source": [
    "fig = make_subplots(1, 1)\n",
    "for (mode_idx, (_, label, color)) in enumerate(INTR_MODES):\n",
    "\ttrace = test_spin_norm_over_mass([simuls[mode_idx][-1] for simuls in all_Psis])\n",
    "\ttrace.marker.color = color\t\n",
    "\ttrace.name = label\n",
    "\tfig.add_trace(trace, 1, 1)\n",
    "fig = pgo.Figure(fig)\n",
    "fig.update_layout(yaxis_range=[0.0, 1.0], xaxis_range=[0.0, 1.0])\n",
    "fig.write_html(\"2022-07-30-total-vs-core-37.html\")"
   ]
  },
  {
   "cell_type": "code",
   "execution_count": 94,
   "metadata": {},
   "outputs": [
    {
     "name": "stdout",
     "output_type": "stream",
     "text": [
      "(3, 675)\n",
      "(3,)\n",
      "(3,)\n"
     ]
    }
   ],
   "source": [
    "print(selected_Psi.shape)\n",
    "print(np.sum(get_spins(selected_Psi), axis=1).shape)\n",
    "print(np.sum(get_spins(centered_Psi), axis=(1, 2, 3)).shape)"
   ]
  },
  {
   "cell_type": "code",
   "execution_count": 99,
   "metadata": {},
   "outputs": [
    {
     "data": {
      "text/plain": [
       "(1,)"
      ]
     },
     "execution_count": 99,
     "metadata": {},
     "output_type": "execute_result"
    }
   ],
   "source": [
    "tuple(range(1,2))"
   ]
  },
  {
   "cell_type": "code",
   "execution_count": 154,
   "metadata": {},
   "outputs": [
    {
     "name": "stdout",
     "output_type": "stream",
     "text": [
      "0.2494654548115159\n",
      "0.6278263330779291\n",
      "0.07522553430817373\n",
      "77.22379585087349\n"
     ]
    }
   ],
   "source": [
    "print(spin_norm_over_mass(Psi))\n",
    "print(spin_norm_over_mass(selected_Psi))\n",
    "print(np.average(get_density(Psi)))\n",
    "print(np.average(get_density(selected_Psi)))\n"
   ]
  },
  {
   "cell_type": "code",
   "execution_count": 128,
   "metadata": {},
   "outputs": [],
   "source": [
    "sim_paths = [f\"../outputs/2022-07-30/8-solitons-random-128-nosi-run-{i}/\" for i in range(1, 1+NUM_SIMULATIONS)]\n",
    "configs = []\n",
    "for sim_path in sim_paths:\n",
    "\tconfig = spio.loadmat(os.path.join(sim_path, \"simConfig.mat\"))\n",
    "\tconfigs.append(config)"
   ]
  },
  {
   "cell_type": "code",
   "execution_count": 138,
   "metadata": {},
   "outputs": [],
   "source": [
    "sizes = [config['simConfig']['sizes'][0][0] for config in configs]"
   ]
  },
  {
   "cell_type": "code",
   "execution_count": 141,
   "metadata": {},
   "outputs": [
    {
     "data": {
      "text/plain": [
       "[3.951379331054033,\n",
       " 3.9239189007638346,\n",
       " 3.779040647205886,\n",
       " 3.840470075396803,\n",
       " 3.8839269483701537,\n",
       " 3.7529775798556253,\n",
       " 3.7325316943822875,\n",
       " 3.7450558879578937]"
      ]
     },
     "execution_count": 141,
     "metadata": {},
     "output_type": "execute_result"
    }
   ],
   "source": [
    "[np.max(s) for s in sizes]"
   ]
  },
  {
   "cell_type": "code",
   "execution_count": null,
   "metadata": {},
   "outputs": [],
   "source": []
  }
 ],
 "metadata": {
  "kernelspec": {
   "display_name": "Python 3",
   "language": "python",
   "name": "python3"
  },
  "language_info": {
   "codemirror_mode": {
    "name": "ipython",
    "version": 3
   },
   "file_extension": ".py",
   "mimetype": "text/x-python",
   "name": "python",
   "nbconvert_exporter": "python",
   "pygments_lexer": "ipython3",
   "version": "3.6.8"
  },
  "vscode": {
   "interpreter": {
    "hash": "4267cb8543a9926ac01ee2665daf08f0af42d07b71d92d2f565934763c6c3e68"
   }
  }
 },
 "nbformat": 4,
 "nbformat_minor": 4
}
