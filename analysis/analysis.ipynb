{
 "cells": [
  {
   "cell_type": "code",
   "execution_count": 3,
   "metadata": {},
   "outputs": [],
   "source": [
    "import os\n",
    "import sys\n",
    "import scipy.io as spio\n",
    "import numpy as np\n",
    "import plotly.graph_objects as pgo\n",
    "import re\n",
    "\n",
    "sys.path.append(\"../\")\n",
    "from helpers.get_density import get_density\n",
    "from helpers.get_spins import get_spins\n",
    "from helpers.downscale import downscale_3d\n",
    "from plot_multiple_3Ds import plot_multiple_3Ds\n",
    "from helpers.grids import get_kw_square_nonzero_grid, get_radius_grid, get_space_grid"
   ]
  },
  {
   "cell_type": "code",
   "execution_count": 4,
   "metadata": {},
   "outputs": [],
   "source": [
    "box_N = 128\n",
    "box_L = 100.0\n",
    "box_dx = box_L / box_N\n",
    "def verify_box_spec(sim_path):\n",
    "\tconfig_path = os.path.join(sim_path, \"simConfig.mat\")\n",
    "\tsimConfig = spio.loadmat(config_path)[\"simConfig\"]\n",
    "\tif box_L != float(simConfig[\"Lbox\"][0, 0][0, 0]):\n",
    "\t\traise Exception(ValueError())\n",
    "\tif box_N != int(simConfig[\"N\"][0, 0][0, 0]):\n",
    "\t\traise Exception(ValueError())\n",
    "\n",
    "\n",
    "VOL_SCALE_FACTOR = 4\n",
    "vol_grid_axis = np.linspace((-box_L + box_dx) / 2, (box_L - box_dx) / 2, num=box_N//VOL_SCALE_FACTOR)\n",
    "(GX, GY, GZ) = [gi.flatten() for gi in np.meshgrid(vol_grid_axis, vol_grid_axis, vol_grid_axis, indexing='ij')]\n",
    "\t"
   ]
  },
  {
   "cell_type": "code",
   "execution_count": 5,
   "metadata": {},
   "outputs": [],
   "source": [
    "def load_snaps_at(sim_path, progress_indices):\n",
    "\tsnap_paths = get_snap_paths(sim_path)\n",
    "\touts = []\n",
    "\tfor pr in progress_indices:\n",
    "\t\tind = int(pr * (len(snap_paths) - 1))\n",
    "\t\tsnap_path = snap_paths[ind]\n",
    "\t\touts.append(load_Psi(snap_path))\n",
    "\treturn outs\n"
   ]
  },
  {
   "cell_type": "code",
   "execution_count": 6,
   "metadata": {},
   "outputs": [],
   "source": [
    "def load_Psi(snap_path):\n",
    "\tprint(f\"loading {snap_path}\")\n",
    "\tsnap = spio.loadmat(snap_path)\n",
    "\tPsi = np.stack([snap[\"Psi\"][0, i] for i in range(3)], axis=0)\n",
    "\tprint(f\"loaded\")\n",
    "\treturn Psi\n",
    "\n",
    "def get_snap_paths(sim_path):\n",
    "\tverify_box_spec(sim_path)\n",
    "\tsim_files = os.listdir(sim_path)\n",
    "\tsearcher = r\"snap-Psi-(\\d+)-(\\d+\\.\\d*)\\.mat\"\n",
    "\tsnap_files = [re.search(searcher, fname) for fname in sim_files]\n",
    "\tsnap_files = [(int(f.groups()[0]), float(f.groups()[1])) for f in snap_files if not(f is None)]\n",
    "\tsnap_files = sorted(snap_files)\n",
    "\tsnap_files = [f\"snap-Psi-{iter}-{time}.mat\" for (iter, time) in snap_files]\n",
    "\tsnap_paths = [os.path.join(sim_path, f) for f in snap_files]\n",
    "\treturn snap_paths\n"
   ]
  },
  {
   "cell_type": "code",
   "execution_count": 7,
   "metadata": {},
   "outputs": [],
   "source": [
    "def plot_snap_density(Psi):\n",
    "\tRho = get_density(Psi)\n",
    "    \n",
    "\tVal = downscale_3d(Rho, VOL_SCALE_FACTOR)\n",
    "\tplot = pgo.Volume(\n",
    "\t\tx = GX,\n",
    "\t\ty = GY,\n",
    "\t\tz = GZ,\n",
    "\t\tvalue = np.log1p(Val).flatten() / 3,\n",
    "\t\topacity = 0.02,\n",
    "\t\tsurface_count = 128,\n",
    "\t\tcoloraxis = \"coloraxis\"\n",
    "\t)\n",
    "\treturn plot"
   ]
  },
  {
   "cell_type": "code",
   "execution_count": 8,
   "metadata": {},
   "outputs": [],
   "source": [
    "\n",
    "kw_sq_nz = get_kw_square_nonzero_grid(box_N, box_dx)\n",
    "\n",
    "def get_normalized_grav_potential(Rho):\n",
    "\tV_grav = np.fft.fftn(-Rho)\n",
    "\tV_grav = V_grav / kw_sq_nz\n",
    "\tV_grav = np.real(np.fft.ifftn(V_grav))\n",
    "\tmin_V = np.min(V_grav)\n",
    "\tmax_V = np.max(V_grav)\n",
    "\treturn (V_grav - min_V) / (max_V - min_V)\n",
    "\n",
    "def plot_snap_V_grav(Psi):\n",
    "\tRho = get_density(Psi)\n",
    "\tV_grav = get_normalized_grav_potential(Rho)\n",
    "\treturn pgo.Volume(\n",
    "\t\tx = GX, y = GY, z = GZ,\n",
    "\t\tvalue = 1 - downscale_3d(V_grav, VOL_SCALE_FACTOR).flatten(),\n",
    "\t\topacity = 0.02,\n",
    "\t\tsurface_count = 128,\n",
    "\t\tcoloraxis = \"coloraxis\"\n",
    "\t)"
   ]
  },
  {
   "cell_type": "code",
   "execution_count": 9,
   "metadata": {},
   "outputs": [],
   "source": [
    "def plot_snap_spins(Psi):\n",
    "\tRho = get_density(Psi)\n",
    "\tSpins = get_spins(Psi)\n",
    "\trt3 = 3**0.5\n",
    "\tSpp = [downscale_3d(Spin / Rho, VOL_SCALE_FACTOR).flatten() / rt3 for Spin in Spins]\n",
    "\treturn pgo.Cone(\n",
    "\t\tx=GX, y=GY, z=GZ,\n",
    "\t\tu=Spp[0], v=Spp[1], w=Spp[2],\n",
    "\t\tcoloraxis = \"coloraxis\"\n",
    "\t)"
   ]
  },
  {
   "cell_type": "code",
   "execution_count": null,
   "metadata": {},
   "outputs": [],
   "source": [
    "Psis = load_snaps_at(f\"../outputs/2022-07-30/8-solitons-random-128-attractive-run-1/\", [0.0, 0.5, 1.0])\n",
    "plots = [\n",
    "\t[plot_snap_density(Psi) for Psi in Psis],\n",
    "\t[plot_snap_V_grav(Psi) for Psi in Psis],\n",
    "\t[plot_snap_spins(Psi) for Psi in Psis]\n",
    "]\n",
    "fig, js = plot_multiple_3Ds(plots)\n",
    "fig.update_layout(\n",
    "\tcoloraxis = {\n",
    "\t\t'colorscale': 'jet',\n",
    "\t\t'cmin': 0.0,\n",
    "\t\t'cmax': 1.0,\n",
    "\t},\n",
    ")\n",
    "fig.write_html(\"plot_Rho_Spin_2022-07-30-run-1.html\", post_script=js)"
   ]
  },
  {
   "cell_type": "code",
   "execution_count": 11,
   "metadata": {},
   "outputs": [
    {
     "name": "stdout",
     "output_type": "stream",
     "text": [
      "loading ../out_remote/2022-07-30/8-solitons-random-128-nosi-run-1/snap-Psi-12000-6367.27.mat\n",
      "loaded\n",
      "loading ../out_remote/2022-07-30/8-solitons-random-128-attractive-run-1/snap-Psi-12000-6367.27.mat\n",
      "loaded\n",
      "loading ../out_remote/2022-07-30/8-solitons-random-128-repulsive-run-1/snap-Psi-12000-6367.27.mat\n",
      "loaded\n",
      "loading ../out_remote/2022-07-30/8-solitons-random-128-nosi-run-2/snap-Psi-12000-6367.27.mat\n",
      "loaded\n",
      "loading ../out_remote/2022-07-30/8-solitons-random-128-attractive-run-2/snap-Psi-12000-6367.27.mat\n",
      "loaded\n",
      "loading ../out_remote/2022-07-30/8-solitons-random-128-repulsive-run-2/snap-Psi-12000-6367.27.mat\n",
      "loaded\n",
      "loading ../out_remote/2022-07-30/8-solitons-random-128-nosi-run-3/snap-Psi-12000-6367.27.mat\n",
      "loaded\n",
      "loading ../out_remote/2022-07-30/8-solitons-random-128-attractive-run-3/snap-Psi-12000-6367.27.mat\n",
      "loaded\n",
      "loading ../out_remote/2022-07-30/8-solitons-random-128-repulsive-run-3/snap-Psi-12000-6367.27.mat\n",
      "loaded\n",
      "loading ../out_remote/2022-07-30/8-solitons-random-128-nosi-run-4/snap-Psi-12000-6367.27.mat\n",
      "loaded\n",
      "loading ../out_remote/2022-07-30/8-solitons-random-128-attractive-run-4/snap-Psi-12000-6367.27.mat\n",
      "loaded\n",
      "loading ../out_remote/2022-07-30/8-solitons-random-128-repulsive-run-4/snap-Psi-12000-6367.27.mat\n",
      "loaded\n",
      "loading ../out_remote/2022-07-30/8-solitons-random-128-nosi-run-5/snap-Psi-12000-6367.27.mat\n",
      "loaded\n",
      "loading ../out_remote/2022-07-30/8-solitons-random-128-attractive-run-5/snap-Psi-12000-6367.27.mat\n",
      "loaded\n",
      "loading ../out_remote/2022-07-30/8-solitons-random-128-repulsive-run-5/snap-Psi-12000-6367.27.mat\n",
      "loaded\n",
      "loading ../out_remote/2022-07-30/8-solitons-random-128-nosi-run-6/snap-Psi-12000-6367.27.mat\n",
      "loaded\n",
      "loading ../out_remote/2022-07-30/8-solitons-random-128-attractive-run-6/snap-Psi-12000-6367.27.mat\n",
      "loaded\n",
      "loading ../out_remote/2022-07-30/8-solitons-random-128-repulsive-run-6/snap-Psi-12000-6367.27.mat\n",
      "loaded\n",
      "loading ../out_remote/2022-07-30/8-solitons-random-128-nosi-run-7/snap-Psi-12000-6367.27.mat\n",
      "loaded\n",
      "loading ../out_remote/2022-07-30/8-solitons-random-128-attractive-run-7/snap-Psi-12000-6367.27.mat\n",
      "loaded\n",
      "loading ../out_remote/2022-07-30/8-solitons-random-128-repulsive-run-7/snap-Psi-12000-6367.27.mat\n",
      "loaded\n",
      "loading ../out_remote/2022-07-30/8-solitons-random-128-nosi-run-8/snap-Psi-12000-6367.27.mat\n",
      "loaded\n",
      "loading ../out_remote/2022-07-30/8-solitons-random-128-attractive-run-8/snap-Psi-12000-6367.27.mat\n",
      "loaded\n",
      "loading ../out_remote/2022-07-30/8-solitons-random-128-repulsive-run-8/snap-Psi-12000-6367.27.mat\n",
      "loaded\n",
      "loading ../out_remote/2022-07-30/8-solitons-random-128-nosi-run-9/snap-Psi-12000-6367.27.mat\n",
      "loaded\n",
      "loading ../out_remote/2022-07-30/8-solitons-random-128-attractive-run-9/snap-Psi-12000-6367.27.mat\n",
      "loaded\n",
      "loading ../out_remote/2022-07-30/8-solitons-random-128-repulsive-run-9/snap-Psi-12000-6367.27.mat\n",
      "loaded\n",
      "loading ../out_remote/2022-07-30/8-solitons-random-128-nosi-run-10/snap-Psi-12000-6367.27.mat\n",
      "loaded\n",
      "loading ../out_remote/2022-07-30/8-solitons-random-128-attractive-run-10/snap-Psi-12000-6367.27.mat\n",
      "loaded\n",
      "loading ../out_remote/2022-07-30/8-solitons-random-128-repulsive-run-10/snap-Psi-12000-6367.27.mat\n",
      "loaded\n"
     ]
    }
   ],
   "source": [
    "NUM_SIMULATIONS = 10\n",
    "PROGRESS_STEPS = [1.0]\n",
    "INTR_MODES = [\n",
    "\t# filename,\t\t label,\t\t\t\t color\n",
    "\t(\"nosi\",\t\t\"No SI\",\t\t\t\"#1abc9c\"),\n",
    "\t(\"attractive\",\t\"Attractive SI\",\t\"#3498db\"),\n",
    "\t(\"repulsive\",\t\"Repulsive SI\",\t\t\"#f39c12\"),\n",
    "]\n",
    "all_Psis = [[load_snaps_at(f\"../out_remote/2022-07-30/8-solitons-random-128-{filename}-run-{i}/\", PROGRESS_STEPS) for (filename, _, _) in INTR_MODES] for i in range(1, 1+NUM_SIMULATIONS)]"
   ]
  },
  {
   "cell_type": "code",
   "execution_count": null,
   "metadata": {},
   "outputs": [],
   "source": [
    "# all_Psis[sim number][interaction mode][progress step][component]"
   ]
  },
  {
   "cell_type": "code",
   "execution_count": 12,
   "metadata": {},
   "outputs": [],
   "source": [
    "from plotly.subplots import make_subplots\n",
    "from tqdm import tqdm\n",
    "def make_plots(plot_func):\n",
    "\tfig = make_subplots(NUM_SIMULATIONS, len(PROGRESS_STEPS), shared_xaxes=True, shared_yaxes=True)\n",
    "\tfor (simul, sim_Psis) in tqdm(enumerate(all_Psis, start=1)):\n",
    "\t\tfor (intr_idx, sim_intr_Psis) in enumerate(sim_Psis):\n",
    "\t\t\tfor (pro, step_Psi) in enumerate(sim_intr_Psis, start=1):\n",
    "\t\t\t\ttrace = plot_func(step_Psi)\n",
    "\t\t\t\t(_, label, color) = INTR_MODES[intr_idx]\n",
    "\t\t\t\ttrace.name = label\n",
    "\t\t\t\ttrace.line.color = color\n",
    "\t\t\t\tfig.add_trace(trace, simul, pro)\n",
    "\n",
    "\tfig = pgo.Figure(fig)\n",
    "\treturn fig\n",
    "\n",
    "NUM_BINS = 192"
   ]
  },
  {
   "cell_type": "code",
   "execution_count": 28,
   "metadata": {},
   "outputs": [
    {
     "name": "stderr",
     "output_type": "stream",
     "text": [
      "8it [00:10,  1.33s/it]\n",
      "8it [00:15,  1.94s/it]\n"
     ]
    }
   ],
   "source": [
    "def plot_Rho_over_AvgRho_low(Psi):\n",
    "\tRho = get_density(Psi)\n",
    "\tValues = Rho / np.average(Rho)\n",
    "\tcounts, edges = np.histogram(Values, bins = NUM_BINS, range = (0.0, 1.0), density = True)\n",
    "\treturn pgo.Scatter(x=edges, y=counts, mode=\"lines+markers\")\n",
    "def plot_Rho_over_AvgRho_high(Psi):\n",
    "\tRho = get_density(Psi)\n",
    "\tValues = Rho / np.average(Rho)\n",
    "\tmax_value = np.max(Values)\n",
    "\tcounts, edges = np.histogram(Values, bins = np.logspace(0, np.log10(max_value), num = NUM_BINS, base=10.0), range = (1.0, max_value), density = True)\n",
    "\treturn pgo.Scatter(x=edges, y=counts, mode=\"lines+markers\")\n",
    "\n",
    "fig = make_plots(plot_Rho_over_AvgRho_low)\n",
    "fig.update_yaxes(type = \"log\")\n",
    "fig.write_html(\"2022-07-30_Rho_over_AvgRho_low.html\")\n",
    "fig = make_plots(plot_Rho_over_AvgRho_high)\n",
    "fig.update_yaxes(type = \"log\")\n",
    "fig.update_xaxes(type = \"log\")\n",
    "fig.write_html(\"2022-07-30_Rho_over_AvgRho_high.html\")"
   ]
  },
  {
   "cell_type": "code",
   "execution_count": 11,
   "metadata": {},
   "outputs": [
    {
     "name": "stderr",
     "output_type": "stream",
     "text": [
      "7it [01:39, 14.23s/it]\n"
     ]
    }
   ],
   "source": [
    "def plot_Spin_over_Rho(Psi):\n",
    "\tRho = get_density(Psi)\n",
    "\tSpins = get_spins(Psi)\n",
    "\tNorms = np.sqrt(np.sum(np.square(Spins), axis=0))\n",
    "\tValues = Norms / Rho\n",
    "\tcounts, edges = np.histogram(Values, bins = NUM_BINS, density = True)\n",
    "\treturn pgo.Scatter(x=edges, y=counts, mode=\"lines+markers\")\n",
    "\n",
    "fig = make_plots(plot_Spin_over_Rho)\n",
    "fig.write_html(\"2022-07-30_Spin_over_Rho.html\")"
   ]
  },
  {
   "cell_type": "code",
   "execution_count": 11,
   "metadata": {},
   "outputs": [
    {
     "name": "stderr",
     "output_type": "stream",
     "text": [
      "5it [00:42,  8.56s/it]\n",
      "5it [00:58, 11.68s/it]\n"
     ]
    }
   ],
   "source": [
    "\n",
    "def plot_Spin_over_AvgSpin_low(Psi):\n",
    "\tSpins = get_spins(Psi)\n",
    "\tNorms = np.sqrt(np.sum(np.square(Spins), axis=0))\n",
    "\tValues = Norms / np.average(Norms)\n",
    "\tcounts, edges = np.histogram(Values, bins = NUM_BINS, range = (0.0, 1.0), density = True)\n",
    "\treturn pgo.Scatter(x=edges, y=counts, mode=\"lines+markers\")\n",
    "def plot_Spin_over_AvgSpin_high(Psi):\n",
    "\tSpins = get_spins(Psi)\n",
    "\tNorms = np.sqrt(np.sum(np.square(Spins), axis=0))\n",
    "\tValues = Norms / np.average(Norms)\n",
    "\tmax_value = np.max(Values)\n",
    "\tcounts, edges = np.histogram(Values, bins = np.logspace(0, np.log10(max_value), num = NUM_BINS, base=10.0), range = (1.0, max_value), density = True)\n",
    "\treturn pgo.Scatter(x=edges, y=counts, mode=\"lines+markers\")\n",
    "\n",
    "fig = make_plots(plot_Spin_over_AvgSpin_low)\n",
    "fig.update_yaxes(type = \"log\")\n",
    "fig.write_html(\"2022-07-30_Spin_over_AvgSpin_low.html\")\n",
    "fig = make_plots(plot_Spin_over_AvgSpin_high)\n",
    "fig.update_yaxes(type = \"log\")\n",
    "fig.update_xaxes(type = \"log\")\n",
    "fig.write_html(\"2022-07-30_Spin_over_AvgSpin_high.html\")"
   ]
  },
  {
   "cell_type": "code",
   "execution_count": 13,
   "metadata": {},
   "outputs": [],
   "source": [
    "MOVING_AVERAGE_WINDOW = 128\n",
    "Space3 = get_space_grid(box_N, box_dx)\n",
    "def find_dense_circle(Psi3):\n",
    "    Rho = get_density(Psi3)\n",
    "    Rho_f = Rho.flatten()\n",
    "    densest_point_idx = np.unravel_index(np.argmax(Rho_f), shape=Rho.shape)\n",
    "    densest_point = tuple([sp[densest_point_idx] for sp in Space3])\n",
    "    radius = get_radius_grid(box_N, box_dx, densest_point)\n",
    "    radius_f = radius.flatten()\n",
    "    sorter = np.argsort(radius_f)\n",
    "    radius_s = radius_f[sorter]\n",
    "    Rho_s = Rho_f[sorter]\n",
    "    target_density = Rho_s[0] * 0.01\n",
    "    centered_Rho_mavg = np.convolve(Rho_s, np.ones(\n",
    "        MOVING_AVERAGE_WINDOW), mode='valid') / MOVING_AVERAGE_WINDOW\n",
    "    boundary_arg = np.argmax(\n",
    "        centered_Rho_mavg < target_density) + MOVING_AVERAGE_WINDOW\n",
    "    boundary_range = slice(boundary_arg - MOVING_AVERAGE_WINDOW, boundary_arg)\n",
    "    selected_range = slice(0, boundary_arg)\n",
    "    boundary_radius = radius_s[boundary_arg]\n",
    "    print(f\"selection radius = {boundary_radius}\")\n",
    "    if boundary_arg < MOVING_AVERAGE_WINDOW * 2:\n",
    "        print(f\"warn: selected volume is small. boundary_arg={boundary_arg}\")\n",
    "    space_sorted = [sp.flatten()[sorter] for sp in Space3]\n",
    "    boundary_positions = tuple([s[boundary_range] for s in space_sorted])\n",
    "    selected_Psi = np.stack(\n",
    "        [ps.flatten()[sorter][selected_range] for ps in Psi3], axis=0)\n",
    "    return boundary_radius, boundary_positions, selected_Psi\n"
   ]
  },
  {
   "cell_type": "code",
   "execution_count": 14,
   "metadata": {},
   "outputs": [],
   "source": [
    "Psi = all_Psis[6][0][-1]"
   ]
  },
  {
   "cell_type": "code",
   "execution_count": 18,
   "metadata": {},
   "outputs": [],
   "source": [
    "def plot_rho_over_r(Psi3):\n",
    "    Rho = get_density(Psi3)\n",
    "    Rho_f = Rho.flatten()\n",
    "    densest_point_idx = np.unravel_index(np.argmax(Rho_f), shape=Rho.shape)\n",
    "    densest_point = tuple([sp[densest_point_idx] for sp in Space3])\n",
    "    radius = get_radius_grid(box_N, box_dx, densest_point)\n",
    "    radius_f = radius.flatten()\n",
    "    sorter = np.argsort(radius_f)\n",
    "    radius_s = radius_f[sorter]\n",
    "    Rho_s = Rho_f[sorter]\n",
    "    counts_we, edges = np.histogram(\n",
    "        radius_s, weights=Rho_s, bins=np.linspace(1, 200, 400))\n",
    "    counts_uw, _ = np.histogram(radius_s, bins=np.linspace(1, 200, 400))\n",
    "    y = counts_we/np.maximum(counts_uw, 1)\n",
    "    x = edges\n",
    "    # cond = radius_s < 8\n",
    "    # x = radius_s[cond]\n",
    "    # y = Rho_s[cond]\n",
    "    return pgo.Scatter(x=x, y=y, mode='markers')\n",
    "fig = pgo.Figure(data=plot_rho_over_r(Psi))\n",
    "fig.update_yaxes(type=\"log\")\n",
    "fig.update_xaxes(type=\"log\")\n",
    "pass\n",
    "fig.write_html(\"2022-07-30_Rho_over_r.html\")\n"
   ]
  },
  {
   "cell_type": "code",
   "execution_count": null,
   "metadata": {},
   "outputs": [],
   "source": [
    "fig.show()"
   ]
  },
  {
   "cell_type": "code",
   "execution_count": 16,
   "metadata": {},
   "outputs": [
    {
     "name": "stdout",
     "output_type": "stream",
     "text": [
      "selection radius = 3.983608994994363\n"
     ]
    }
   ],
   "source": [
    "radius, boundary_points, selected_Psi = find_dense_circle(Psi)\n",
    "(bx, by, bz) = boundary_points\n",
    "plots = [\n",
    "\t[plot_snap_density(Psi)],\n",
    "]\n",
    "fig, js = plot_multiple_3Ds(plots)\n",
    "fig.add_trace(pgo.Mesh3d(\n",
    "\tx=bx, y=by, z=bz,\n",
    "\topacity=0.4, color='red', alphahull=0,\n",
    "), 1, 1)\n",
    "fig.update_layout(\n",
    "\tcoloraxis = {\n",
    "\t\t'colorscale': 'viridis',\n",
    "\t\t'cmin': 0.0,\n",
    "\t\t'cmax': 1.0,\n",
    "\t},\n",
    ")\n",
    "fig.write_html(\"2022-07-30-core.html\", post_script=js)\n",
    "pass"
   ]
  },
  {
   "cell_type": "code",
   "execution_count": null,
   "metadata": {},
   "outputs": [],
   "source": []
  },
  {
   "cell_type": "code",
   "execution_count": 159,
   "metadata": {},
   "outputs": [],
   "source": [
    "def spin_norm_over_mass(Psi):\n",
    "\tnorm = np.sqrt(np.sum(np.square(\n",
    "\t\tnp.sum(get_spins(Psi), axis=tuple(range(1,Psi.ndim)))\n",
    "\t)))\n",
    "\tmass = np.sum(get_density(Psi))\n",
    "\treturn norm / mass\n",
    "\n",
    "def test_spin_norm_over_mass(Psis):\n",
    "\tx = []\n",
    "\ty = []\n",
    "\thovertexts = []\n",
    "\tfor (n, Psi) in enumerate(Psis, start=1):\n",
    "\t\tradius, boundary_points, selected_Psi = find_dense_circle(Psi)\n",
    "\t\tx.append(spin_norm_over_mass(Psi))\n",
    "\t\ty.append(spin_norm_over_mass(selected_Psi))\n",
    "\t\thovertexts.append(f\"simulation {n} selected_radius={radius}\")\n",
    "\treturn pgo.Scatter(\n",
    "\t\tx=x, y=y,\n",
    "\t\thovertext=hovertexts,\n",
    "\t\tmode=\"markers\"\n",
    "\t)\n"
   ]
  },
  {
   "cell_type": "code",
   "execution_count": 160,
   "metadata": {},
   "outputs": [
    {
     "name": "stdout",
     "output_type": "stream",
     "text": [
      "densest_point_idx: (65, 68, 107)\n",
      "selection radius = 2.329165268936858\n",
      "warn: selected volume is small. boundary_arg=0\n",
      "densest_point_idx: (94, 10, 105)\n",
      "selection radius = 2.5816687103551166\n",
      "warn: selected volume is small. boundary_arg=17\n",
      "densest_point_idx: (7, 82, 19)\n",
      "selection radius = 2.329165268936858\n",
      "warn: selected volume is small. boundary_arg=0\n",
      "densest_point_idx: (98, 13, 64)\n",
      "selection radius = 2.329165268936858\n",
      "warn: selected volume is small. boundary_arg=0\n",
      "densest_point_idx: (113, 71, 85)\n",
      "selection radius = 2.329165268936858\n",
      "warn: selected volume is small. boundary_arg=0\n",
      "densest_point_idx: (48, 0, 113)\n",
      "selection radius = 2.329165268936858\n",
      "warn: selected volume is small. boundary_arg=0\n",
      "densest_point_idx: (10, 37, 106)\n",
      "selection radius = 2.329165268936858\n",
      "warn: selected volume is small. boundary_arg=0\n",
      "densest_point_idx: (50, 69, 64)\n",
      "selection radius = 2.329165268936858\n",
      "warn: selected volume is small. boundary_arg=0\n",
      "densest_point_idx: (65, 76, 105)\n",
      "selection radius = 2.329165268936858\n",
      "warn: selected volume is small. boundary_arg=0\n",
      "densest_point_idx: (94, 9, 103)\n",
      "selection radius = 2.329165268936858\n",
      "warn: selected volume is small. boundary_arg=0\n",
      "densest_point_idx: (5, 83, 20)\n",
      "selection radius = 2.329165268936858\n",
      "warn: selected volume is small. boundary_arg=0\n",
      "densest_point_idx: (99, 13, 68)\n",
      "selection radius = 2.329165268936858\n",
      "warn: selected volume is small. boundary_arg=0\n",
      "densest_point_idx: (114, 73, 88)\n",
      "selection radius = 2.329165268936858\n",
      "warn: selected volume is small. boundary_arg=0\n",
      "densest_point_idx: (48, 2, 116)\n",
      "selection radius = 2.329165268936858\n",
      "warn: selected volume is small. boundary_arg=0\n",
      "densest_point_idx: (13, 33, 105)\n",
      "selection radius = 2.329165268936858\n",
      "warn: selected volume is small. boundary_arg=0\n",
      "densest_point_idx: (39, 69, 73)\n",
      "selection radius = 2.329165268936858\n",
      "warn: selected volume is small. boundary_arg=0\n",
      "densest_point_idx: (63, 77, 102)\n",
      "selection radius = 2.329165268936858\n",
      "warn: selected volume is small. boundary_arg=0\n",
      "densest_point_idx: (96, 9, 105)\n",
      "selection radius = 2.5816687103551197\n",
      "warn: selected volume is small. boundary_arg=30\n",
      "densest_point_idx: (9, 78, 20)\n",
      "selection radius = 2.329165268936858\n",
      "warn: selected volume is small. boundary_arg=0\n",
      "densest_point_idx: (99, 15, 66)\n",
      "selection radius = 2.329165268936858\n",
      "warn: selected volume is small. boundary_arg=0\n",
      "densest_point_idx: (110, 76, 85)\n",
      "selection radius = 2.329165268936858\n",
      "warn: selected volume is small. boundary_arg=0\n",
      "densest_point_idx: (46, 2, 114)\n",
      "selection radius = 2.329165268936858\n",
      "warn: selected volume is small. boundary_arg=0\n",
      "densest_point_idx: (12, 35, 111)\n",
      "selection radius = 2.329165268936858\n",
      "warn: selected volume is small. boundary_arg=0\n",
      "densest_point_idx: (46, 67, 65)\n",
      "selection radius = 2.329165268936858\n",
      "warn: selected volume is small. boundary_arg=0\n"
     ]
    }
   ],
   "source": [
    "fig = make_subplots(1, 1)\n",
    "for (mode_idx, (_, label, color)) in enumerate(INTR_MODES):\n",
    "\ttrace = test_spin_norm_over_mass([simuls[mode_idx][-1] for simuls in all_Psis])\n",
    "\ttrace.marker.color = color\t\n",
    "\ttrace.name = label\n",
    "\tfig.add_trace(trace, 1, 1)\n",
    "fig = pgo.Figure(fig)\n",
    "fig.update_layout(yaxis_range=[0.0, 1.0], xaxis_range=[0.0, 1.0])\n",
    "fig.write_html(\"2022-07-30-total-vs-core-37.html\")"
   ]
  },
  {
   "cell_type": "code",
   "execution_count": 94,
   "metadata": {},
   "outputs": [
    {
     "name": "stdout",
     "output_type": "stream",
     "text": [
      "(3, 675)\n",
      "(3,)\n",
      "(3,)\n"
     ]
    }
   ],
   "source": [
    "print(selected_Psi.shape)\n",
    "print(np.sum(get_spins(selected_Psi), axis=1).shape)\n",
    "print(np.sum(get_spins(centered_Psi), axis=(1, 2, 3)).shape)"
   ]
  },
  {
   "cell_type": "code",
   "execution_count": 99,
   "metadata": {},
   "outputs": [
    {
     "data": {
      "text/plain": [
       "(1,)"
      ]
     },
     "execution_count": 99,
     "metadata": {},
     "output_type": "execute_result"
    }
   ],
   "source": [
    "tuple(range(1,2))"
   ]
  },
  {
   "cell_type": "code",
   "execution_count": 154,
   "metadata": {},
   "outputs": [
    {
     "name": "stdout",
     "output_type": "stream",
     "text": [
      "0.2494654548115159\n",
      "0.6278263330779291\n",
      "0.07522553430817373\n",
      "77.22379585087349\n"
     ]
    }
   ],
   "source": [
    "print(spin_norm_over_mass(Psi))\n",
    "print(spin_norm_over_mass(selected_Psi))\n",
    "print(np.average(get_density(Psi)))\n",
    "print(np.average(get_density(selected_Psi)))\n"
   ]
  },
  {
   "cell_type": "code",
   "execution_count": 128,
   "metadata": {},
   "outputs": [],
   "source": [
    "sim_paths = [f\"../outputs/2022-07-30/8-solitons-random-128-nosi-run-{i}/\" for i in range(1, 1+NUM_SIMULATIONS)]\n",
    "configs = []\n",
    "for sim_path in sim_paths:\n",
    "\tconfig = spio.loadmat(os.path.join(sim_path, \"simConfig.mat\"))\n",
    "\tconfigs.append(config)"
   ]
  },
  {
   "cell_type": "code",
   "execution_count": 138,
   "metadata": {},
   "outputs": [],
   "source": [
    "sizes = [config['simConfig']['sizes'][0][0] for config in configs]"
   ]
  },
  {
   "cell_type": "code",
   "execution_count": 141,
   "metadata": {},
   "outputs": [
    {
     "data": {
      "text/plain": [
       "[3.951379331054033,\n",
       " 3.9239189007638346,\n",
       " 3.779040647205886,\n",
       " 3.840470075396803,\n",
       " 3.8839269483701537,\n",
       " 3.7529775798556253,\n",
       " 3.7325316943822875,\n",
       " 3.7450558879578937]"
      ]
     },
     "execution_count": 141,
     "metadata": {},
     "output_type": "execute_result"
    }
   ],
   "source": [
    "[np.max(s) for s in sizes]"
   ]
  },
  {
   "cell_type": "code",
   "execution_count": null,
   "metadata": {},
   "outputs": [],
   "source": []
  },
  {
   "cell_type": "code",
   "execution_count": null,
   "metadata": {},
   "outputs": [],
   "source": []
  }
 ],
 "metadata": {
  "kernelspec": {
   "display_name": "Python 3.6.8 ('python_venv': venv)",
   "language": "python",
   "name": "python3"
  },
  "language_info": {
   "codemirror_mode": {
    "name": "ipython",
    "version": 3
   },
   "file_extension": ".py",
   "mimetype": "text/x-python",
   "name": "python",
   "nbconvert_exporter": "python",
   "pygments_lexer": "ipython3",
   "version": "3.6.8"
  },
  "vscode": {
   "interpreter": {
    "hash": "e2a49a0cfbd7096e298866a14d53e70ccf966e064957332ffffe05703535bf8a"
   }
  }
 },
 "nbformat": 4,
 "nbformat_minor": 4
}
