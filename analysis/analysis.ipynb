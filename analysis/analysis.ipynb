{
 "cells": [
  {
   "cell_type": "code",
   "execution_count": 1,
   "metadata": {},
   "outputs": [],
   "source": [
    "import os\n",
    "import scipy.io as spio\n",
    "import numpy as np\n",
    "import plotly.graph_objects as pgo\n",
    "import re\n",
    "\n",
    "from get_density import get_density\n",
    "from get_spins import get_spins\n",
    "from downscale import downscale_3d\n",
    "from plot_multiple_3Ds import plot_multiple_3Ds"
   ]
  },
  {
   "cell_type": "code",
   "execution_count": 2,
   "metadata": {},
   "outputs": [],
   "source": [
    "box_N = 128\n",
    "box_L = 100.0\n",
    "def verify_box_spec(sim_path):\n",
    "\tconfig_path = os.path.join(sim_path, \"simConfig.mat\")\n",
    "\tsimConfig = spio.loadmat(config_path)[\"simConfig\"]\n",
    "\tif box_L != float(simConfig[\"Lbox\"][0, 0][0, 0]):\n",
    "\t\traise Exception(ValueError())\n",
    "\tif box_N != int(simConfig[\"N\"][0, 0][0, 0]):\n",
    "\t\traise Exception(ValueError())\n",
    "\n",
    "\n",
    "VOL_SCALE_FACTOR = 8\n",
    "vol_grid_axis = np.linspace(-box_L / 2, box_L / 2, num=box_N//VOL_SCALE_FACTOR)\n",
    "(GX, GY, GZ) = [gi.flatten() for gi in np.meshgrid(vol_grid_axis, vol_grid_axis, vol_grid_axis)]\n",
    "\t"
   ]
  },
  {
   "cell_type": "code",
   "execution_count": 3,
   "metadata": {},
   "outputs": [],
   "source": [
    "def load_snaps_at(sim_path, progress_indices):\n",
    "\tsnap_paths = get_snap_paths(sim_path)\n",
    "\touts = []\n",
    "\tfor pr in progress_indices:\n",
    "\t\tind = int(pr * (len(snap_paths) - 1))\n",
    "\t\tsnap_path = snap_paths[ind]\n",
    "\t\touts.append(load_Psi(snap_path))\n",
    "\treturn outs\n"
   ]
  },
  {
   "cell_type": "code",
   "execution_count": 4,
   "metadata": {},
   "outputs": [],
   "source": [
    "def load_Psi(snap_path):\n",
    "\tprint(f\"loading {snap_path}\")\n",
    "\tsnap = spio.loadmat(snap_path)\n",
    "\tPsi = np.stack([snap[\"Psi\"][0, i] for i in range(3)], axis=0)\n",
    "\tprint(f\"Psi loaded\")\n",
    "\treturn Psi\n",
    "\n",
    "def get_snap_paths(sim_path):\n",
    "\tverify_box_spec(sim_path)\n",
    "\tsim_files = os.listdir(sim_path)\n",
    "\tsearcher = r\"snap-Psi-(\\d+)-(\\d+\\.\\d*)\\.mat\"\n",
    "\tsnap_files = [re.search(searcher, fname) for fname in sim_files]\n",
    "\tsnap_files = [(int(f.groups()[0]), float(f.groups()[1])) for f in snap_files if not(f is None)]\n",
    "\tsnap_files = sorted(snap_files)\n",
    "\tsnap_files = [f\"snap-Psi-{iter}-{time}.mat\" for (iter, time) in snap_files]\n",
    "\tsnap_paths = [os.path.join(sim_path, f) for f in snap_files]\n",
    "\treturn snap_paths\n"
   ]
  },
  {
   "cell_type": "code",
   "execution_count": 5,
   "metadata": {},
   "outputs": [],
   "source": [
    "def plot_snap_density(Psi):\n",
    "\tRho = get_density(Psi)\n",
    "    \n",
    "\tVal = downscale_3d(Rho, VOL_SCALE_FACTOR)\n",
    "\tplot = pgo.Volume(\n",
    "\t\tx = GX,\n",
    "\t\ty = GY,\n",
    "\t\tz = GZ,\n",
    "\t\tvalue = np.log1p(Val).flatten() / 3,\n",
    "\t\topacity = 0.02,\n",
    "\t\tsurface_count = 128,\n",
    "\t\tcoloraxis = \"coloraxis\"\n",
    "\t)\n",
    "\treturn plot"
   ]
  },
  {
   "cell_type": "code",
   "execution_count": 6,
   "metadata": {},
   "outputs": [],
   "source": [
    "import math\n",
    "\n",
    "klin = np.linspace(-box_N/2, box_N/2 - 1, box_N) * (2 * math.pi / box_L)\n",
    "k_sq_nz = np.fft.fftshift(sum([np.square(k) for k in np.meshgrid(klin, klin, klin)]))\n",
    "k_sq_nz[k_sq_nz == 0] = 1\n",
    "\n",
    "def get_normalized_grav_potential(Rho):\n",
    "\tV_grav = np.fft.fftn(-Rho)\n",
    "\tV_grav = V_grav / k_sq_nz\n",
    "\tV_grav = np.real(np.fft.ifftn(V_grav))\n",
    "\tmin_V = np.min(V_grav)\n",
    "\tmax_V = np.max(V_grav)\n",
    "\treturn (V_grav - min_V) / (max_V - min_V)\n",
    "\n",
    "def plot_snap_V_grav(Psi):\n",
    "\tRho = get_density(Psi)\n",
    "\tV_grav = get_normalized_grav_potential(Rho)\n",
    "\treturn pgo.Volume(\n",
    "\t\tx = GX,\n",
    "\t\ty = GY,\n",
    "\t\tz = GZ,\n",
    "\t\tvalue = 1 - downscale_3d(V_grav, VOL_SCALE_FACTOR).flatten(),\n",
    "\t\topacity = 0.02,\n",
    "\t\tsurface_count = 128,\n",
    "\t\tcoloraxis = \"coloraxis\"\n",
    "\t)"
   ]
  },
  {
   "cell_type": "code",
   "execution_count": 7,
   "metadata": {},
   "outputs": [],
   "source": [
    "def plot_snap_spins(Psi):\n",
    "\tRho = get_density(Psi)\n",
    "\tSpins = get_spins(Psi)\n",
    "\trt3 = 3**0.5\n",
    "\tSpp = [downscale_3d(Spin / Rho, VOL_SCALE_FACTOR).flatten() / rt3 for Spin in Spins]\n",
    "\treturn pgo.Cone(\n",
    "\t\tx=GX, y=GY, z=GZ,\n",
    "\t\tu=Spp[0], v=Spp[1], w=Spp[2],\n",
    "\t\tcoloraxis = \"coloraxis\"\n",
    "\t)"
   ]
  },
  {
   "cell_type": "code",
   "execution_count": null,
   "metadata": {},
   "outputs": [],
   "source": []
  },
  {
   "cell_type": "code",
   "execution_count": null,
   "metadata": {},
   "outputs": [],
   "source": [
    "Psis = load_snaps_at(f\"../outputs/2022-07-20/8-solitons-random-128-attractive-run-1/\", [0.0, 0.5, 1.0])\n",
    "plots = [\n",
    "\t[plot_snap_density(Psi) for Psi in Psis],\n",
    "\t[plot_snap_V_grav(Psi) for Psi in Psis],\n",
    "\t[plot_snap_spins(Psi) for Psi in Psis]\n",
    "]\n",
    "fig, js = plot_multiple_3Ds(plots)\n",
    "fig.update_layout(\n",
    "\tcoloraxis = {\n",
    "\t\t'colorscale': 'jet',\n",
    "\t\t'cmin': 0.0,\n",
    "\t\t'cmax': 1.0,\n",
    "\t},\n",
    ")\n",
    "fig.write_html(\"plot_Rho_Spin.html\", post_script=js)"
   ]
  },
  {
   "cell_type": "code",
   "execution_count": null,
   "metadata": {},
   "outputs": [],
   "source": [
    "# counts, bin_edges = np.histogram(V_grav.flatten(), bins = 256, weights = Rho.flatten())\n",
    "# fig = pgo.Figure(data=[\n",
    "# \tpgo.Bar(x=bin_edges, y=counts)\n",
    "# ])\n",
    "# fig.write_html(\"plot_of_V_grav.html\", include_plotlyjs='cdn')"
   ]
  },
  {
   "cell_type": "code",
   "execution_count": null,
   "metadata": {},
   "outputs": [],
   "source": []
  },
  {
   "cell_type": "code",
   "execution_count": 8,
   "metadata": {},
   "outputs": [],
   "source": [
    "def get_spin_norm_dist(Psi):\n",
    "\tRho = get_density(Psi)\n",
    "\tV_grav = get_normalized_grav_potential(Rho)\n",
    "\tSpins = get_spins(Psi)\n",
    "\tSpin_norm = np.sqrt(np.sum(np.square(Spins), axis=0))\n",
    "\tV_grav_f = V_grav.flatten()\n",
    "\tsorter = np.argsort(V_grav_f)\n",
    "\tV_grav_s = V_grav_f[sorter]\n",
    "\t# Rho_f = Rho.flatten()\n",
    "\t# sorter = np.argsort(Rho)\n",
    "\t# Rho_s = Rho_f[sorter]\n",
    "\tRho_s = Rho.flatten()[sorter]\n",
    "\tSpin_norm_s = Spin_norm.flatten()[sorter]\n",
    "\tNUM_BINS = 192\n",
    "\tspin_hist, spin_edges = np.histogram(V_grav_s, bins=NUM_BINS, weights=Spin_norm_s)\n",
    "\tmass_hist, mass_edges = np.histogram(V_grav_s, bins=NUM_BINS, weights=Rho_s)\n",
    "\tassert(np.all(spin_edges == mass_edges))\n",
    "\tspin_cumu = np.cumsum(spin_hist)\n",
    "\tmass_cumu = np.cumsum(mass_hist)\n",
    "\tavrg_cumu = spin_cumu / mass_cumu\n",
    "\treturn pgo.Scatter(\n",
    "\t\tx=spin_edges, y=avrg_cumu,\n",
    "\t\tmode = \"lines+markers\",\n",
    "\t)\n",
    "\n",
    "\t# return average_spin_norm_in(Psi, True), average_spin_norm_in(Psi, V_grav <= 1/3)\n",
    "\t# print(average_spin_in(Psi, True, 0))\n",
    "\t# print(average_spin_in(Psi, V_grav <= 0.3, 0))\n",
    "\t# for j in range(3):\n",
    "\t# \tprint(f\"axis: {j}\t\tentire box: {average_spin_in(Psi, True, j):.4f}\t\tdense area: {average_spin_in(Psi, V_grav <= 1/3, j):.4f}\")\n",
    "\t\n",
    "\t# sp = get_spins(Psi) / Rho\n",
    "\t# sps = np.sum(np.square(sp), axis=0)\n",
    "\t# counts, edges = np.histogram(sps.flatten(), bins=256)\n",
    "\t# pgo.Figure(data=[\n",
    "\t# \tpgo.Bar(x=edges, y=counts)\n",
    "\t# ]).show()"
   ]
  },
  {
   "cell_type": "code",
   "execution_count": 10,
   "metadata": {},
   "outputs": [
    {
     "name": "stdout",
     "output_type": "stream",
     "text": [
      "loading ../outputs/2022-07-25/8-solitons-random-144-nosi-run-1/snap-Psi-12000-6367.27.mat\n",
      "Psi loaded\n",
      "loading ../outputs/2022-07-25/8-solitons-random-144-attractive-run-1/snap-Psi-12000-6367.27.mat\n",
      "Psi loaded\n",
      "loading ../outputs/2022-07-25/8-solitons-random-144-repulsive-run-1/snap-Psi-12000-6367.27.mat\n",
      "Psi loaded\n"
     ]
    }
   ],
   "source": [
    "from plotly.subplots import make_subplots\n",
    "NUM_SIMULATIONS = 1\n",
    "fig = make_subplots(NUM_SIMULATIONS, 1, shared_xaxes=True)\n",
    "\n",
    "DISPLAY_TYPES = [\n",
    "\t# filename,\t\t label,\t\t\t\t color\n",
    "\t(\"nosi\",\t\t\"No SI\",\t\t\t\"#1abc9c\"),\n",
    "\t(\"attractive\",\t\"Attractive SI\",\t\"#3498db\"),\n",
    "\t(\"repulsive\",\t\"Repulsive SI\",\t\t\"#f39c12\"),\n",
    "]\n",
    "\n",
    "for i in range(1, 1+NUM_SIMULATIONS):\n",
    "\tfor (filename, label, color) in DISPLAY_TYPES:\n",
    "\t\tPsis = load_snaps_at(f\"../outputs/2022-07-25/8-solitons-random-144-{filename}-run-{i}/\", [1.0])\n",
    "\t\ttrace = get_spin_norm_dist(Psis[-1])\n",
    "\t\ttrace.name = label\n",
    "\t\ttrace.line.color = color\n",
    "\t\tfig.add_trace(trace, i, 1)\n",
    "\n",
    "fig = pgo.Figure(fig)\n",
    "fig.write_html(\"plot_Spin_hist_new.html\")"
   ]
  },
  {
   "cell_type": "code",
   "execution_count": null,
   "metadata": {},
   "outputs": [],
   "source": []
  },
  {
   "cell_type": "code",
   "execution_count": null,
   "metadata": {},
   "outputs": [],
   "source": []
  }
 ],
 "metadata": {
  "kernelspec": {
   "display_name": "Python 3",
   "language": "python",
   "name": "python3"
  },
  "language_info": {
   "codemirror_mode": {
    "name": "ipython",
    "version": 3
   },
   "file_extension": ".py",
   "mimetype": "text/x-python",
   "name": "python",
   "nbconvert_exporter": "python",
   "pygments_lexer": "ipython3",
   "version": "3.6.8"
  },
  "vscode": {
   "interpreter": {
    "hash": "4267cb8543a9926ac01ee2665daf08f0af42d07b71d92d2f565934763c6c3e68"
   }
  }
 },
 "nbformat": 4,
 "nbformat_minor": 4
}
