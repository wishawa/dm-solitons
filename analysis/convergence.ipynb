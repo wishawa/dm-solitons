{
 "cells": [
  {
   "cell_type": "code",
   "execution_count": 1,
   "metadata": {},
   "outputs": [],
   "source": [
    "import os\n",
    "import sys\n",
    "import scipy.io as spio\n",
    "import numpy as np\n",
    "import plotly.graph_objects as pgo\n",
    "import re\n",
    "\n",
    "sys.path.append(\"../\")\n",
    "from helpers.get_density import get_density\n",
    "from helpers.get_spins import get_spins\n",
    "from helpers.downscale import downscale_3d\n",
    "from plot_multiple_3Ds import plot_multiple_3Ds\n",
    "from loader import get_snap_paths, load_Psi\n",
    "from helpers.grids import get_kw_square_nonzero_grid, get_radius_grid, get_space_grid\n",
    "from multiprocessing import Pool"
   ]
  },
  {
   "cell_type": "code",
   "execution_count": 2,
   "metadata": {},
   "outputs": [],
   "source": [
    "box_N = 96\n",
    "box_L = 400.0\n",
    "box_dx = box_L / box_N"
   ]
  },
  {
   "cell_type": "code",
   "execution_count": 4,
   "metadata": {},
   "outputs": [],
   "source": [
    "lambdas = [0]\n",
    "runs = [1]\n",
    "dtos = [1, 2, 4]\n",
    "to_loads = []\n",
    "for ld in lambdas:\n",
    "\tfor run in runs:\n",
    "\t\tsr = {}\n",
    "\t\tfor dto in dtos:\n",
    "\t\t\tsim_path = f\"../out_remote/2022-09-11/4-solitons-attractive,lambda={ld},run={run},dto={dto}/\"\n",
    "\t\t\tsnap_paths = get_snap_paths(sim_path, box_L, box_N)\n",
    "\t\t\tfor (itr, time, path) in snap_paths:\n",
    "\t\t\t\tto_loads.append((ld, run, dto, itr, time, path))\n"
   ]
  },
  {
   "cell_type": "code",
   "execution_count": null,
   "metadata": {},
   "outputs": [],
   "source": [
    "def load_one(x):\n",
    "\t(ld, run, dto, itr, time, path) = x\n",
    "\treturn (ld, run, dto, itr, time, load_Psi(path))\n",
    "\n",
    "with Pool(32) as p:\n",
    " \tloadeds = p.map(load_one, to_loads)"
   ]
  },
  {
   "cell_type": "code",
   "execution_count": null,
   "metadata": {},
   "outputs": [],
   "source": []
  },
  {
   "cell_type": "code",
   "execution_count": 21,
   "metadata": {},
   "outputs": [
    {
     "name": "stdout",
     "output_type": "stream",
     "text": [
      "1.6330975249729194\n",
      "1.3106160641610194\n",
      "1.243665927566465\n",
      "1.1812393592189945\n",
      "1.20948280941929\n",
      "1.7124344096294581\n",
      "1.9579610180456462\n",
      "2.026445679818972\n",
      "2.0011858902134483\n",
      "1.9414893545285992\n",
      "1.795437431995821\n",
      "1.4307161072558676\n",
      "1.178919865648366\n",
      "1.1335701851765816\n",
      "1.119376422181645\n",
      "1.0364085083790793\n",
      "0.9534805926332195\n",
      "0.8187094333808738\n",
      "0.7667124751456517\n",
      "0.7151571299524455\n",
      "0.6859824065560081\n",
      "0.6510991473529893\n",
      "0.6240358212192276\n",
      "0.565836269046283\n",
      "0.5300357596400507\n",
      "0.5272846101575086\n",
      "0.49939507778467357\n",
      "0.5007423015575136\n",
      "0.47058571242133246\n",
      "0.46542679002617376\n",
      "0.41140690722072504\n",
      "0.3660870101874037\n",
      "0.35841381003627815\n",
      "0.3174712284263993\n",
      "0.3223749763952974\n",
      "0.2843759095856767\n",
      "0.2933745710401042\n",
      "0.29888643874965687\n",
      "0.24886478595629988\n",
      "0.2669064852486772\n",
      "0.23871798009639386\n",
      "0.2460767925244768\n",
      "0.2117939401327799\n",
      "0.2183613310324094\n",
      "0.2013141519059096\n",
      "0.24095583551507233\n",
      "0.20920404986771443\n",
      "0.22436107207839665\n",
      "0.21043260510640385\n",
      "0.19605440585449593\n",
      "0.22282819115487734\n",
      "0.17783801881126587\n",
      "0.18155414198459374\n",
      "0.2010133524904614\n",
      "0.19910439834002017\n",
      "0.18559470935282663\n",
      "0.2165723803574977\n",
      "0.18183109495431035\n",
      "0.1810162570005189\n",
      "0.22466442421835284\n",
      "0.2009613513629456\n"
     ]
    }
   ],
   "source": [
    "\n",
    "def test_for(test_ld, test_run):\n",
    "\tsnaps = {dto: [] for dto in dtos}\n",
    "\tfor (ld, run, dto, itr, time, Psi3) in sorted(loadeds):\n",
    "\t\tif (test_ld == ld and test_run == run):\n",
    "\t\t\tsnaps[dto].append((time, Psi3))\n",
    "\t\n",
    "\trhos = {dto: [(t,get_density(Psi3)) for (t,Psi3) in Psi3s] for (dto, Psi3s) in snaps.items()}\n",
    "\tdt1 = (2 / np.pi) * (box_dx)**2\n",
    "\tfor ((t1, rho1), (t2, rho2), (t4, rho4)) in zip(rhos[1], rhos[2], rhos[4]):\n",
    "\t\tassert(abs(t1-t2) < 20 and abs(t2-t4) < 20)\n",
    "\t\tv = np.abs(rho1 - rho2) / np.abs(rho2 - rho4)\n",
    "\t\tq = np.log2(v)\n",
    "\t\t# print(np.percentile(q, 1), np.percentile(q, 10), np.percentile(q, 50), np.percentile(q, 90), np.percentile(q, 99))\n",
    "\t\tprint(np.average(q))\n",
    "\t\t\n",
    "test_for(0, 1)"
   ]
  },
  {
   "cell_type": "code",
   "execution_count": null,
   "metadata": {},
   "outputs": [],
   "source": []
  },
  {
   "cell_type": "code",
   "execution_count": null,
   "metadata": {},
   "outputs": [],
   "source": []
  }
 ],
 "metadata": {
  "kernelspec": {
   "display_name": "Python 3.8.12 ('venv': venv)",
   "language": "python",
   "name": "python3"
  },
  "language_info": {
   "codemirror_mode": {
    "name": "ipython",
    "version": 3
   },
   "file_extension": ".py",
   "mimetype": "text/x-python",
   "name": "python",
   "nbconvert_exporter": "python",
   "pygments_lexer": "ipython3",
   "version": "3.8.12"
  },
  "orig_nbformat": 4,
  "vscode": {
   "interpreter": {
    "hash": "790f04b38888a3e1c817e1cdf4ed3d9a9f31a7dcf33b776ec913b0d670bbaf3b"
   }
  }
 },
 "nbformat": 4,
 "nbformat_minor": 2
}
