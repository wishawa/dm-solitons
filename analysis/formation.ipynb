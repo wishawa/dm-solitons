{
 "cells": [
  {
   "cell_type": "code",
   "execution_count": 34,
   "metadata": {},
   "outputs": [],
   "source": [
    "import os\n",
    "import sys\n",
    "import scipy.io as spio\n",
    "import numpy as np\n",
    "import plotly.graph_objects as pgo\n",
    "import re\n",
    "\n",
    "sys.path.append(\"../\")\n",
    "from helpers.get_density import get_density\n",
    "from helpers.get_spins import get_spins\n",
    "from helpers.downscale import downscale_3d\n",
    "from plot_multiple_3Ds import plot_multiple_3Ds\n",
    "from helpers.grids import get_kw_square_nonzero_grid, get_radius_grid, get_space_grid\n",
    "from loader import load_snaps_at\n",
    "from multiprocessing import Pool\n"
   ]
  },
  {
   "cell_type": "code",
   "execution_count": 35,
   "metadata": {},
   "outputs": [],
   "source": [
    "box_N = 128\n",
    "box_L = 40.0\n",
    "box_dx = box_L / box_N\n",
    "\n",
    "VOL_SCALE_FACTOR = 4\n",
    "vol_grid_axis = np.linspace((-box_L + box_dx) / 2, (box_L - box_dx) / 2, num=box_N//VOL_SCALE_FACTOR)\n",
    "(GX, GY, GZ) = [gi.flatten() for gi in np.meshgrid(vol_grid_axis, vol_grid_axis, vol_grid_axis, indexing='ij')]"
   ]
  },
  {
   "cell_type": "code",
   "execution_count": 41,
   "metadata": {},
   "outputs": [
    {
     "name": "stdout",
     "output_type": "stream",
     "text": [
      "loading ../out_remote/2022-10-23/condensation,sigma=2.5,density=0.64,lambda=0/snap-Psi-200-9.77.mat\n",
      "loaded\n",
      "loading ../out_remote/2022-10-23/condensation,sigma=2.5,density=0.64,lambda=0/snap-Psi-2000-34.94.mat\n",
      "loaded\n",
      "loading ../out_remote/2022-10-23/condensation,sigma=2.5,density=0.64,lambda=0/snap-Psi-3800-51.55.mat\n",
      "loaded\n"
     ]
    }
   ],
   "source": [
    "Psis = load_snaps_at(f\"../out_remote/2022-10-23/condensation,sigma=2.5,density=0.64,lambda=0/\", [0.05, 0.50, 0.95], box_L, box_N)"
   ]
  },
  {
   "cell_type": "code",
   "execution_count": 100,
   "metadata": {},
   "outputs": [],
   "source": [
    "Space3 = get_space_grid(box_N, box_dx)\n",
    "def plot_rho_over_r(Psi3):\n",
    "    Rho = get_density(Psi3)\n",
    "    Rho_f = Rho.flatten()\n",
    "    densest_point_idx = np.unravel_index(np.argmax(Rho_f), shape=Rho.shape)\n",
    "    densest_point = tuple([sp[densest_point_idx] for sp in Space3])\n",
    "    radius = get_radius_grid(box_N, box_dx, densest_point)\n",
    "    radius_f = radius.flatten()\n",
    "    sorter = np.argsort(radius_f)\n",
    "    radius_s = radius_f[sorter]\n",
    "    Rho_s = Rho_f[sorter]\n",
    "    counts_we, edges = np.histogram(\n",
    "        radius_s, weights=Rho_s, bins=np.linspace(box_dx, box_L, 400))\n",
    "    counts_uw, _ = np.histogram(radius_s, bins=np.linspace(box_dx, box_L, 400))\n",
    "    y = counts_we/np.maximum(counts_uw, 1)\n",
    "    x = edges\n",
    "    return pgo.Scatter(x=x, y=y, mode='markers')\n"
   ]
  },
  {
   "cell_type": "code",
   "execution_count": 116,
   "metadata": {},
   "outputs": [],
   "source": [
    "def plot_est_profile(Psi3):\n",
    "    Rho = get_density(Psi3)\n",
    "    Rho_f = Rho.flatten()\n",
    "    # densest_point_idx = np.unravel_index(np.argmax(Rho_f), shape=Rho.shape)\n",
    "    # densest_point = tuple([sp[densest_point_idx] for sp in Space3])\n",
    "    # amp = np.sqrt(np.average(np.sort(Rho_f)[-8:]))\n",
    "    amp = np.sqrt(1)\n",
    "    print(amp)\n",
    "    x = np.linspace(box_dx, box_L, 400)\n",
    "    y = amp**2 * 0.998309 / (1. + 0.037653 * amp * np.square(x))**8\n",
    "    return pgo.Scatter(x=x, y=y, mode='lines')"
   ]
  },
  {
   "cell_type": "code",
   "execution_count": 117,
   "metadata": {},
   "outputs": [
    {
     "data": {
      "text/plain": [
       "(3, 128, 128, 128)"
      ]
     },
     "execution_count": 117,
     "metadata": {},
     "output_type": "execute_result"
    }
   ],
   "source": [
    "Psis[-1].shape"
   ]
  },
  {
   "cell_type": "code",
   "execution_count": 118,
   "metadata": {},
   "outputs": [
    {
     "name": "stdout",
     "output_type": "stream",
     "text": [
      "1.0\n"
     ]
    }
   ],
   "source": [
    "fig = pgo.Figure()\n",
    "fig.add_trace(plot_rho_over_r(Psis[-1]))\n",
    "fig.add_trace(plot_est_profile(Psis[-1]))\n",
    "fig.update_yaxes(type=\"log\")\n",
    "fig.update_xaxes(type=\"log\")\n",
    "pass\n",
    "fig.write_html(\"2022-10-23_Rho_over_r.html\")"
   ]
  },
  {
   "cell_type": "code",
   "execution_count": null,
   "metadata": {},
   "outputs": [],
   "source": []
  }
 ],
 "metadata": {
  "kernelspec": {
   "display_name": "Python 3.6.8 ('venv': venv)",
   "language": "python",
   "name": "python3"
  },
  "language_info": {
   "codemirror_mode": {
    "name": "ipython",
    "version": 3
   },
   "file_extension": ".py",
   "mimetype": "text/x-python",
   "name": "python",
   "nbconvert_exporter": "python",
   "pygments_lexer": "ipython3",
   "version": "3.6.8"
  },
  "orig_nbformat": 4,
  "vscode": {
   "interpreter": {
    "hash": "790f04b38888a3e1c817e1cdf4ed3d9a9f31a7dcf33b776ec913b0d670bbaf3b"
   }
  }
 },
 "nbformat": 4,
 "nbformat_minor": 2
}
