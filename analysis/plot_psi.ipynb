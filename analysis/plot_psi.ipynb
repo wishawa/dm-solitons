{
 "cells": [
  {
   "cell_type": "code",
   "execution_count": 1,
   "metadata": {},
   "outputs": [],
   "source": [
    "import os\n",
    "import scipy.io as spio\n",
    "import numpy as np\n",
    "import plotly.graph_objects as pgo\n",
    "import plotly\n",
    "plotly.io.renderers.default = \"notebook\""
   ]
  },
  {
   "cell_type": "code",
   "execution_count": null,
   "metadata": {},
   "outputs": [],
   "source": []
  },
  {
   "cell_type": "code",
   "execution_count": 2,
   "metadata": {},
   "outputs": [],
   "source": [
    "path = \"../outputs/2022-07-19/8-solitons-random-144-repulsive/\"\n",
    "sim_files = os.listdir(path)\n",
    "snap_files = [f for f in sim_files if f.startswith(\"snap-Psi\")]\n",
    "snap = spio.loadmat(os.path.join(path, snap_files[-1]))\n",
    "Psi = np.stack([snap[\"Psi\"][0, i] for i in range(3)], axis=0)\n",
    "simConfig = spio.loadmat(os.path.join(path, \"simConfig.mat\"))[\"simConfig\"]"
   ]
  },
  {
   "cell_type": "code",
   "execution_count": 3,
   "metadata": {},
   "outputs": [
    {
     "name": "stdout",
     "output_type": "stream",
     "text": [
      "N=144, Lbox=100.0\n"
     ]
    }
   ],
   "source": [
    "Lbox = float(simConfig[\"Lbox\"][0, 0][0, 0])\n",
    "N = int(simConfig[\"N\"][0, 0][0, 0])\n",
    "print(f\"N={N}, Lbox={Lbox}\")"
   ]
  },
  {
   "cell_type": "code",
   "execution_count": 4,
   "metadata": {},
   "outputs": [],
   "source": [
    "Rho = np.sum(np.absolute(Psi), axis = 0)"
   ]
  },
  {
   "cell_type": "code",
   "execution_count": 5,
   "metadata": {},
   "outputs": [],
   "source": [
    "def downscale(A, factor, axis):\n",
    "\tindexer = [slice(None) for _i in range(len(A.shape))]\n",
    "\tO = None\n",
    "\tfor i in range(factor):\n",
    "\t\tindexer[axis] = slice(i, None, factor)\n",
    "\t\titer_indexer = tuple(indexer)\n",
    "\t\tif O is None:\n",
    "\t\t\tO = A[iter_indexer]\n",
    "\t\telse:\n",
    "\t\t\tO += A[iter_indexer]\n",
    "\treturn O / factor\n",
    "\n",
    "def downscale_3d(A, factor):\n",
    "\tA = downscale(A, factor, 2)\n",
    "\tA = downscale(A, factor, 1)\n",
    "\tA = downscale(A, factor, 0)\n",
    "\treturn A"
   ]
  },
  {
   "cell_type": "code",
   "execution_count": null,
   "metadata": {},
   "outputs": [],
   "source": []
  },
  {
   "cell_type": "code",
   "execution_count": null,
   "metadata": {},
   "outputs": [],
   "source": [
    "scale_factor = 4\n",
    "grid_axis = np.linspace(-Lbox / 2, Lbox / 2, num=N//scale_factor)\n",
    "GX, GY, GZ = np.meshgrid(grid_axis, grid_axis, grid_axis)\n",
    "Val = downscale_3d(Rho, scale_factor)\n",
    "fig = pgo.Figure(data = pgo.Volume(\n",
    "\tx = GX.flatten(),\n",
    "\ty = GY.flatten(),\n",
    "\tz = GZ.flatten(),\n",
    "\tvalue = np.log1p(Val).flatten(),\n",
    "\topacity = 0.05,\n",
    "\tsurface_count = 96\n",
    "))\n",
    "fig.show()"
   ]
  },
  {
   "cell_type": "code",
   "execution_count": null,
   "metadata": {},
   "outputs": [],
   "source": []
  },
  {
   "cell_type": "code",
   "execution_count": null,
   "metadata": {},
   "outputs": [],
   "source": []
  }
 ],
 "metadata": {
  "kernelspec": {
   "display_name": "Python 3.6.8 ('python_venv': venv)",
   "language": "python",
   "name": "python3"
  },
  "language_info": {
   "codemirror_mode": {
    "name": "ipython",
    "version": 3
   },
   "file_extension": ".py",
   "mimetype": "text/x-python",
   "name": "python",
   "nbconvert_exporter": "python",
   "pygments_lexer": "ipython3",
   "version": "3.6.8"
  },
  "orig_nbformat": 4,
  "vscode": {
   "interpreter": {
    "hash": "4267cb8543a9926ac01ee2665daf08f0af42d07b71d92d2f565934763c6c3e68"
   }
  }
 },
 "nbformat": 4,
 "nbformat_minor": 2
}
