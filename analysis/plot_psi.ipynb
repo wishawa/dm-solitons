{
 "cells": [
  {
   "cell_type": "code",
   "execution_count": 35,
   "metadata": {},
   "outputs": [],
   "source": [
    "import os\n",
    "import scipy.io as spio\n",
    "import numpy as np\n",
    "import plotly.graph_objects as pgo\n",
    "from plotly.subplots import make_subplots\n",
    "import re"
   ]
  },
  {
   "cell_type": "code",
   "execution_count": 36,
   "metadata": {},
   "outputs": [],
   "source": [
    "def plot_snap(snap_path, config_path):\n",
    "\tfrom downscale import downscale_3d\n",
    "\tprint(f\"loading {snap_path}\")\n",
    "\tsnap = spio.loadmat(snap_path)\n",
    "\tPsi = np.stack([snap[\"Psi\"][0, i] for i in range(3)], axis=0)\n",
    "\tsimConfig = spio.loadmat(config_path)[\"simConfig\"]\n",
    "\tprint(f\"Psi loaded\")\n",
    "\tLbox = float(simConfig[\"Lbox\"][0, 0][0, 0])\n",
    "\tN = int(simConfig[\"N\"][0, 0][0, 0])\n",
    "\tprint(f\"N={N}, Lbox={Lbox}\")\n",
    "\tRho = np.sum(np.absolute(Psi), axis = 0)\n",
    "    \n",
    "\tscale_factor = 4\n",
    "\tgrid_axis = np.linspace(-Lbox / 2, Lbox / 2, num=N//scale_factor)\n",
    "\tGX, GY, GZ = np.meshgrid(grid_axis, grid_axis, grid_axis)\n",
    "\tVal = downscale_3d(Rho, scale_factor)\n",
    "\tplot = pgo.Volume(\n",
    "\t\tx = GX.flatten(),\n",
    "\t\ty = GY.flatten(),\n",
    "\t\tz = GZ.flatten(),\n",
    "\t\tvalue = np.log1p(Val).flatten(),\n",
    "\t\topacity = 0.02,\n",
    "\t\tcmin = 0.0,\n",
    "\t\tcmax = 3.0,\n",
    "\t\tsurface_count = 128,\n",
    "\t\tcolorscale = \"jet\"\n",
    "\t)\n",
    "\treturn plot"
   ]
  },
  {
   "cell_type": "code",
   "execution_count": 37,
   "metadata": {},
   "outputs": [
    {
     "name": "stdout",
     "output_type": "stream",
     "text": [
      "loading ../outputs/2022-07-20/8-solitons-random-128-attractive-run-3/snap-Psi-0-0.53.mat\n",
      "Psi loaded\n",
      "N=128, Lbox=100.0\n",
      "loading ../outputs/2022-07-20/8-solitons-random-128-attractive-run-3/snap-Psi-2000-1061.74.mat\n",
      "Psi loaded\n",
      "N=128, Lbox=100.0\n",
      "loading ../outputs/2022-07-20/8-solitons-random-128-attractive-run-3/snap-Psi-4000-2122.42.mat\n",
      "Psi loaded\n",
      "N=128, Lbox=100.0\n"
     ]
    }
   ],
   "source": [
    "def plot_sim_snaps(sim_path, progress_indices):\n",
    "\tsim_files = os.listdir(sim_path)\n",
    "\tsearcher = r\"snap-Psi-(\\d+)-(\\d+\\.\\d*)\\.mat\"\n",
    "\tsnap_files = [re.search(searcher, fname) for fname in sim_files]\n",
    "\tsnap_files = [(int(f.groups()[0]), float(f.groups()[1])) for f in snap_files if not(f is None)]\n",
    "\tsnap_files = sorted(snap_files)\n",
    "\tsnap_files = [f\"snap-Psi-{iter}-{time}.mat\" for (iter, time) in snap_files]\n",
    "\tconfig_path = os.path.join(sim_path, \"simConfig.mat\")\n",
    "\t\n",
    "\touts = []\n",
    "\tfor pr in progress_indices:\n",
    "\t\tind = int(pr * (len(snap_files) - 1))\n",
    "\t\tsnap_file = snap_files[ind]\n",
    "\t\tsnap_path = os.path.join(sim_path, snap_file)\n",
    "\t\touts.append(plot_snap(snap_path, config_path))\n",
    "\treturn outs\n",
    "\n",
    "# plot_sim_snaps(\"../outputs/2022-07-20/8-solitons-random-128-attractive-run-3/\", [0, 0.5, 1])\n",
    "# plot_sim_snaps(\"../outputs/2022-07-21/8-solitons-random-128-nosi-run-3/\", [0, 0.5, 1])\n",
    "[nosi0, nosi50, nosi100] = plot_sim_snaps(\"../outputs/2022-07-20/8-solitons-random-128-attractive-run-3/\", [0, 0.5, 1])"
   ]
  },
  {
   "cell_type": "code",
   "execution_count": 39,
   "metadata": {},
   "outputs": [],
   "source": [
    "i3d = {\"is_3d\": True}\n",
    "fig = make_subplots(\n",
    "\trows = 1,\n",
    "\tcols = 3,\n",
    "\tspecs=[\n",
    "\t\t[i3d, i3d, i3d],\n",
    "\t]\n",
    ")\n",
    "fig.update_layout(height = 500, width = 1500)\n",
    "fig.add_trace(nosi0, 1, 1)\n",
    "fig.add_trace(nosi50, 1, 2)\n",
    "fig.add_trace(nosi100, 1, 3)\n",
    "\n",
    "fig = pgo.Figure(fig)\n",
    "\n",
    "js = '''\n",
    "(function() {{\n",
    "    const gd = document.getElementById('{plot_id}');\n",
    "    let isUnderRelayout = 0;\n",
    "\n",
    "    gd.on('plotly_relayout', (e) => {{\n",
    "        const camera = Object.entries(e).find(([k, v]) => k.startsWith(\"scene\") && k.endsWith(\"camera\"))[1];\n",
    "        if (camera && isUnderRelayout == 0) {{\n",
    "            const relayoutKeys = Object.keys(gd.layout).filter(k => k.startsWith(\"scene\"));\n",
    "            isUnderRelayout = relayoutKeys.length;\n",
    "            relayoutKeys.forEach(k => {{\n",
    "                Plotly.relayout(gd, k + \".camera\", camera)\n",
    "                  .then(() => {{\n",
    "                      isUnderRelayout--;\n",
    "                  }});\n",
    "            }});\n",
    "        }}\n",
    "    }})\n",
    "}})();\n",
    "'''"
   ]
  },
  {
   "cell_type": "code",
   "execution_count": null,
   "metadata": {},
   "outputs": [],
   "source": [
    "from IPython.core.display import display, HTML\n",
    "from plotly.offline import plot\n",
    "import plotly\n",
    "\n",
    "div = plot(fig, include_plotlyjs=False, output_type='div')\n",
    "div_id = div.split('=')[1].split()[0].replace(\"'\", \"\").replace('\"', '')\n",
    "\n",
    "div = '<script src=\"https://cdn.plot.ly/plotly-latest.min.js\"></script>' + div + f'<script>{js.format(plot_id=div_id)}</script>'\n",
    "display(HTML(div))"
   ]
  },
  {
   "cell_type": "code",
   "execution_count": 40,
   "metadata": {},
   "outputs": [],
   "source": [
    "fig.write_html(\"plot.html\", include_plotlyjs='cdn', post_script=js)"
   ]
  },
  {
   "cell_type": "code",
   "execution_count": null,
   "metadata": {},
   "outputs": [],
   "source": []
  }
 ],
 "metadata": {
  "kernelspec": {
   "display_name": "Python 3",
   "language": "python",
   "name": "python3"
  },
  "language_info": {
   "codemirror_mode": {
    "name": "ipython",
    "version": 3
   },
   "file_extension": ".py",
   "mimetype": "text/x-python",
   "name": "python",
   "nbconvert_exporter": "python",
   "pygments_lexer": "ipython3",
   "version": "3.6.8"
  },
  "vscode": {
   "interpreter": {
    "hash": "4267cb8543a9926ac01ee2665daf08f0af42d07b71d92d2f565934763c6c3e68"
   }
  }
 },
 "nbformat": 4,
 "nbformat_minor": 4
}
