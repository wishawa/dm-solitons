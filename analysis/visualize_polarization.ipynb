{
 "cells": [
  {
   "cell_type": "code",
   "execution_count": 1,
   "metadata": {},
   "outputs": [],
   "source": [
    "using LinearAlgebra;\n",
    "using GLMakie;\n",
    "using Observables;"
   ]
  },
  {
   "cell_type": "code",
   "execution_count": 2,
   "metadata": {},
   "outputs": [],
   "source": [
    "const N = 96;\n",
    "const L = 100;"
   ]
  },
  {
   "cell_type": "code",
   "execution_count": 3,
   "metadata": {},
   "outputs": [
    {
     "data": {
      "text/plain": [
       "get_R (generic function with 1 method)"
      ]
     },
     "metadata": {},
     "output_type": "display_data"
    }
   ],
   "source": [
    "function get_grid()\n",
    "\tLend = (N-1) * L / (2 * N)\n",
    "\tli = range(-Lend, Lend; length=N)\n",
    "    [[(x, y, z)[i] for x in li, y in li, z in li] for i in 1:3]\n",
    "end\n",
    "function get_R(grid, ctr)\n",
    "\tfunction dif_one(agrid, actr)\n",
    "\t\tdi = abs.(agrid .- actr)\n",
    "\t\t(min.(di, L .- di)).^2\n",
    "\tend\n",
    "\tsqrt.(sum([\n",
    "\t\tdif_one(agrid, actr) for (agrid, actr) in zip(grid, ctr)\n",
    "\t]))\n",
    "end"
   ]
  },
  {
   "cell_type": "code",
   "execution_count": 68,
   "metadata": {},
   "outputs": [
    {
     "data": {
      "text/plain": [
       "epsilon_for_spin (generic function with 1 method)"
      ]
     },
     "metadata": {},
     "output_type": "display_data"
    }
   ],
   "source": [
    "function epsilon_for_spin(spin)\n",
    "\tepsilon = [exp(1im * asin(spin)), 0, 1]\n",
    "\tepsilon ./ norm(epsilon)\n",
    "end"
   ]
  },
  {
   "cell_type": "code",
   "execution_count": 69,
   "metadata": {},
   "outputs": [
    {
     "data": {
      "text/plain": [
       "soliton_profile (generic function with 1 method)"
      ]
     },
     "metadata": {},
     "output_type": "display_data"
    }
   ],
   "source": [
    "function soliton_profile(R, amp, λ, p)\n",
    "\tR² = R.^2;\n",
    "\tamp .* sqrt.(\n",
    "\t\t(0.998309 ./ (1 .+ 0.0376534 * amp .* R²).^8) .+\n",
    "\t\t((0.0890172 * amp * λ * p * amp .* R²) ./ (1 .+ 0.0502554 * amp .* R²).^8)\n",
    "\t)\n",
    "end"
   ]
  },
  {
   "cell_type": "code",
   "execution_count": 70,
   "metadata": {},
   "outputs": [
    {
     "data": {
      "text/plain": [
       "transparent_viridis (generic function with 2 methods)"
      ]
     },
     "metadata": {},
     "output_type": "display_data"
    }
   ],
   "source": [
    "using ColorSchemes;\n",
    "using Colors;\n",
    "function transparent_viridis(base = 0)\n",
    "\tviridis = [cgrad(:viridis)...];\n",
    "\tcgrad([RGBA(c.r, c.g, c.b, clamp(base + i/((1-base) * 256), 0, 1)) for (i, c) in enumerate(viridis)])\n",
    "end"
   ]
  },
  {
   "cell_type": "code",
   "execution_count": 75,
   "metadata": {},
   "outputs": [
    {
     "data": {
      "text/plain": [
       "generate (generic function with 2 methods)"
      ]
     },
     "metadata": {},
     "output_type": "display_data"
    }
   ],
   "source": [
    "function generate(savename, epsilon)\n",
    "\tepsilon = epsilon / norm(epsilon)\n",
    "\tflatten = vec\n",
    "\tgrid = get_grid()\n",
    "\tR = get_R(grid, [0, 0, 0])\n",
    "\tprof = soliton_profile(R, 0.04, 0, 0)\n",
    "\tPsi3 = [prof .* ep for ep in epsilon]\n",
    "\n",
    "\n",
    "\tfactor = 16\n",
    "\tfunction downscaled(Arr)\n",
    "\t\tfunction downscaled_1D(Arr, dim)\n",
    "\t\t\tdimsize = size(Arr, dim)\n",
    "\t\t\toutlen = Int(dimsize / factor)\n",
    "\t\t\tout = Nothing\n",
    "\t\t\tfor j in 1:factor\n",
    "\t\t\t\tindexer = [range(;start=1, stop=size(Arr, i), step=1) for i in 1:ndims(Arr)]\n",
    "\t\t\t\tindexer[dim] = range(;start=j, length=outlen, step=factor)\n",
    "\t\t\t\tif out == Nothing\n",
    "\t\t\t\t\tout = Arr[indexer...]\n",
    "\t\t\t\telse\n",
    "\t\t\t\t\tout += Arr[indexer...]\n",
    "\t\t\t\tend\n",
    "\t\t\tend\n",
    "\t\t\tout ./ factor\n",
    "\t\tend\n",
    "\t\tnd = ndims(Arr)\n",
    "\t\tfor i in 1:nd\n",
    "\t\t\tArr = downscaled_1D(Arr, i)\n",
    "\t\tend\n",
    "\t\tArr\n",
    "\tend\n",
    "\t\n",
    "\tgridpoints = [Point3f(p) for p in zip([flatten(downscaled(gra)) for gra in grid]...)]\n",
    "\n",
    "\tfield_value_vec = Observable(similar(gridpoints, Point3f))\n",
    "\tfield_value_dns = Observable(similar(gridpoints, Float32))\n",
    "\t\n",
    "    # fig = with_theme(theme_black()) do\n",
    "\t\tfig = Figure(resolution=(800, 800))\n",
    "\t\ttvcmap = transparent_viridis(0)\n",
    "\t\tLend = (N-1) * L / (2 * N)\n",
    "\t\taxes_limit = (-Lend, Lend)\n",
    "\t\taxes_limits = (axes_limit, axes_limit, axes_limit)\n",
    "\t\tfield_ax = Axis3(fig[1,1],\n",
    "\t\t\t# title=L\"\\Re[\\Psi]\",\n",
    "\t\t\tlimits=axes_limits,\n",
    "\t\t\t# xlabel=L\"x\",\n",
    "\t\t\t# ylabel=L\"y\",\n",
    "\t\t\t# zlabel=L\"z\",\n",
    "\t\t\t# elevation=-0.2*π,\n",
    "\t\t\t# azimuth=0.25*π,\n",
    "\t\t\t# azimuth=0,\n",
    "\t\t\t# viewmode=:fit,\n",
    "\t\t)\n",
    "\t\t# hidespines!(field_ax)\n",
    "\t\thidedecorations!(field_ax)\n",
    "\t\tarrows!(field_ax, gridpoints, field_value_vec,\n",
    "\t\t\tcolor=field_value_dns,\n",
    "\t\t\tarrowcolor=field_value_dns,\n",
    "\t\t\tlinewidth=1.0, arrowsize=4.0,\n",
    "\t\t\tlengthscale=6,\n",
    "\t\t\t# align=:center,\n",
    "\t\t\tcolormap=tvcmap,\n",
    "\t\t\tquality=128,\n",
    "\t\t\ttransparency=true,\n",
    "\t\t\tssao=true,\n",
    "\t\t)\n",
    "\t\tfig\n",
    "\t# end\n",
    "\tfunction scaled_field(p)\n",
    "\t\t# s = norm(p)\n",
    "\t\t# l = s * 1E3\n",
    "\t\tp .* 1E3\n",
    "\tend\n",
    "\trho = sum(Psi -> abs2.(Psi), Psi3)\n",
    "\trho_ceiling = log1p(maximum(rho) * 1E6)\n",
    "\trecord(fig, savename) do rec_io\n",
    "\t\tfor t in 0:0.1:(2*π)\n",
    "\t\t\tfvv = [\n",
    "\t\t\t\tscaled_field(collect(p))\n",
    "\t\t\t\tfor p in \n",
    "\t\t\t\tzip([\n",
    "\t\t\t\t\treal.(\n",
    "\t\t\t\t\t\tflatten(downscaled(Psi)) .* exp(-im * t)\n",
    "\t\t\t\t\t) for Psi in Psi3\n",
    "\t\t\t\t]...)\n",
    "\t\t\t]\n",
    "\t\t\tfield_value_vec[] = fvv\n",
    "\t\t\trho = downscaled(sum(Psi -> abs2.(Psi), Psi3))\n",
    "\t\t\tlpr = log1p.(rho * 1E6) / rho_ceiling\n",
    "\t\t\tfield_value_dns[] = flatten(lpr)\n",
    "            recordframe!(rec_io)\n",
    "\t\tend\n",
    "\tend\n",
    "end"
   ]
  },
  {
   "cell_type": "code",
   "execution_count": 76,
   "metadata": {},
   "outputs": [
    {
     "data": {
      "text/plain": [
       "\"visualization-s=1.0.gif\""
      ]
     },
     "metadata": {},
     "output_type": "display_data"
    }
   ],
   "source": [
    "generate(\"visualization-s=0.0.gif\", [0, 0, 1])\n",
    "generate(\"visualization-s=1.0.gif\", [1, 1im, 0])"
   ]
  },
  {
   "cell_type": "code",
   "execution_count": null,
   "metadata": {},
   "outputs": [],
   "source": []
  }
 ],
 "metadata": {
  "kernelspec": {
   "display_name": "Julia 1.8.0",
   "language": "julia",
   "name": "julia-1.8"
  },
  "language_info": {
   "file_extension": ".jl",
   "mimetype": "application/julia",
   "name": "julia",
   "version": "1.8.0"
  },
  "orig_nbformat": 4
 },
 "nbformat": 4,
 "nbformat_minor": 2
}
